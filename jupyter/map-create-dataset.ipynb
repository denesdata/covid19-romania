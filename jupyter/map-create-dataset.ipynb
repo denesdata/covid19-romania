{
 "cells": [
  {
   "cell_type": "code",
   "execution_count": 84,
   "metadata": {},
   "outputs": [],
   "source": [
    "#Mapbox colors:\n",
    "# 239e69\n",
    "# f5d232\n",
    "# c52b69\n",
    "# 850237"
   ]
  },
  {
   "cell_type": "markdown",
   "metadata": {},
   "source": [
    "Mapbox upload"
   ]
  },
  {
   "cell_type": "code",
   "execution_count": 226,
   "metadata": {},
   "outputs": [],
   "source": [
    "import requests"
   ]
  },
  {
   "cell_type": "markdown",
   "metadata": {},
   "source": [
    "Create tileset source"
   ]
  },
  {
   "cell_type": "code",
   "execution_count": 227,
   "metadata": {},
   "outputs": [],
   "source": [
    "# !pip install mapbox-tilesets"
   ]
  },
  {
   "cell_type": "code",
   "execution_count": 228,
   "metadata": {},
   "outputs": [],
   "source": [
    "# !tilesets list-sources csaladenes --token $mapbox_api_key"
   ]
  },
  {
   "cell_type": "code",
   "execution_count": 229,
   "metadata": {},
   "outputs": [],
   "source": [
    "# !tilesets list csaladenes --token $mapbox_api_key"
   ]
  },
  {
   "cell_type": "code",
   "execution_count": 230,
   "metadata": {},
   "outputs": [],
   "source": [
    "# !tilesets validate-source uat_daily.json"
   ]
  },
  {
   "cell_type": "code",
   "execution_count": 231,
   "metadata": {},
   "outputs": [
    {
     "name": "stdout",
     "output_type": "stream",
     "text": [
      "\u001b[?25h\n",
      "{\"id\": \"mapbox://tileset-source/csaladenes/roeim\", \"files\": 1, \"source_size\": 6792278, \"file_size\": 6792278}\n"
     ]
    }
   ],
   "source": [
    "!tilesets upload-source csaladenes roeim uat_daily.json --replace --token $mapbox_api_key"
   ]
  },
  {
   "cell_type": "code",
   "execution_count": 232,
   "metadata": {},
   "outputs": [],
   "source": [
    "# recipe={\n",
    "#   \"version\": 1,\n",
    "#   \"layers\": {\n",
    "#     \"uat_fills\": {\n",
    "#       \"source\": \"mapbox://tileset-source/csaladenes/roeim\",\n",
    "#       \"minzoom\" : 0,\n",
    "#       \"maxzoom\" : 12\n",
    "#     }\n",
    "#   }\n",
    "# }\n",
    "# open('uat_recipe.json','w').write(json.dumps(recipe))"
   ]
  },
  {
   "cell_type": "code",
   "execution_count": 233,
   "metadata": {},
   "outputs": [],
   "source": [
    "# !tilesets validate-recipe uat_recipe.json --token $mapbox_api_key"
   ]
  },
  {
   "cell_type": "code",
   "execution_count": 234,
   "metadata": {},
   "outputs": [],
   "source": [
    "# !tilesets create csaladenes.roeim --recipe uat_recipe.json --name \"roeim tiles\" --token $mapbox_api_key"
   ]
  },
  {
   "cell_type": "code",
   "execution_count": 235,
   "metadata": {},
   "outputs": [
    {
     "name": "stdout",
     "output_type": "stream",
     "text": [
      "{\"message\": \"Processing csaladenes.roeim\", \"jobId\": \"cknfb2olm001s08mj1jcj79wv\"}\n",
      "\n",
      "✔ Tileset job received. Visit \u001b[1mhttps://studio.mapbox.com/tilesets/csaladenes.roeim\u001b[0m or run \u001b[1mtilesets job csaladenes.roeim cknfb2olm001s08mj1jcj79wv\u001b[0m to view the status of your tileset.\n"
     ]
    }
   ],
   "source": [
    "!tilesets publish csaladenes.roeim --token $mapbox_api_key"
   ]
  },
  {
   "cell_type": "code",
   "execution_count": 156,
   "metadata": {},
   "outputs": [],
   "source": [
    "# !tilesets job csaladenes.roeim cknf9bbhe000808jtfeanc4i4 --token $mapbox_api_key"
   ]
  },
  {
   "cell_type": "code",
   "execution_count": 155,
   "metadata": {},
   "outputs": [],
   "source": [
    "# url='https://api.mapbox.com/tilesets/v1/csaladenes.roeim/recipe?access_token='+mapbox_api_key\n",
    "# r=requests.get(url)\n",
    "# tileset=json.loads(r.content)\n",
    "# tileset"
   ]
  },
  {
   "cell_type": "code",
   "execution_count": 236,
   "metadata": {},
   "outputs": [
    {
     "data": {
      "text/plain": [
       "{'id': 'mapbox://tileset-source/csaladenes/roeim',\n",
       " 'files': 1,\n",
       " 'size': 6792278,\n",
       " 'size_nice': '6.48MB'}"
      ]
     },
     "execution_count": 236,
     "metadata": {},
     "output_type": "execute_result"
    }
   ],
   "source": [
    "url='https://api.mapbox.com/tilesets/v1/sources/csaladenes/roeim?access_token='+mapbox_api_key\n",
    "r=requests.get(url)\n",
    "json.loads(r.content)"
   ]
  },
  {
   "cell_type": "code",
   "execution_count": 213,
   "metadata": {},
   "outputs": [
    {
     "data": {
      "text/plain": [
       "{'bounds': [20.214844, 43.580391, 29.794922, 48.283193],\n",
       " 'center': [25.39734141297086, 45.78267791546735, 5],\n",
       " 'created': '2021-04-12T23:57:16.854Z',\n",
       " 'created_by_client': None,\n",
       " 'description': '',\n",
       " 'filesize': 6792278,\n",
       " 'id': 'csaladenes.roeim',\n",
       " 'maxzoom': 12,\n",
       " 'minzoom': 0,\n",
       " 'modified': '2021-04-13T00:00:29.875Z',\n",
       " 'name': 'roeim tiles',\n",
       " 'status': 'available',\n",
       " 'tileset_precisions': {'1m': 259326},\n",
       " 'type': 'vector',\n",
       " 'vector_layers': [{'fields': {'⚫': 'number',\n",
       "    '🌄': 'string',\n",
       "    '🏠': 'string',\n",
       "    '📆': 'string',\n",
       "    '📈': 'number',\n",
       "    '🔴': 'string',\n",
       "    '🚦': 'number'},\n",
       "   'id': 'uat_fills',\n",
       "   'maxzoom': 22,\n",
       "   'minzoom': 0,\n",
       "   'source': 'csaladenes.roeim',\n",
       "   'source_name': 'roeim tiles'}],\n",
       " 'visibility': 'private'}"
      ]
     },
     "execution_count": 213,
     "metadata": {},
     "output_type": "execute_result"
    }
   ],
   "source": [
    "url='https://api.mapbox.com/tilesets/v1/csaladenes.roeim?access_token='+mapbox_api_key\n",
    "r=requests.get(url)\n",
    "json.loads(r.content)"
   ]
  },
  {
   "cell_type": "markdown",
   "metadata": {},
   "source": [
    "No need for the below, once created in MB - just update the dataset"
   ]
  },
  {
   "cell_type": "code",
   "execution_count": 198,
   "metadata": {},
   "outputs": [],
   "source": [
    "mapbox_api_key=open('auth/mapbox.txt','r').read()\n",
    "url='https://api.mapbox.com/styles/v1/csaladenes/<STYLE_ID>?access_token='+mapbox_api_key\n",
    "r=requests.get(url)\n",
    "mbstyle=json.loads(r.content)\n",
    "mbstyle.pop('modified');\n",
    "mbstyle.pop('created');"
   ]
  },
  {
   "cell_type": "code",
   "execution_count": 223,
   "metadata": {},
   "outputs": [],
   "source": [
    "for i in [0,1,2]:\n",
    "    mbstyle['layers'][i]['source']='roeim tiles'\n",
    "    mbstyle['layers'][i]['source-layer']='mapbox://tileset-source/csaladenes/roeim'"
   ]
  },
  {
   "cell_type": "code",
   "execution_count": 224,
   "metadata": {},
   "outputs": [
    {
     "data": {
      "text/plain": [
       "<Response [422]>"
      ]
     },
     "execution_count": 224,
     "metadata": {},
     "output_type": "execute_result"
    }
   ],
   "source": [
    "url='https://api.mapbox.com/styles/v1/csaladenes//<STYLE_ID>?access_token='+mapbox_api_key\n",
    "r = requests.patch(url, json.dumps(mbstyle), headers=head)\n",
    "r"
   ]
  },
  {
   "cell_type": "markdown",
   "metadata": {},
   "source": [
    "Wait 5 min"
   ]
  }
 ],
 "metadata": {
  "kernelspec": {
   "display_name": "Python 3",
   "language": "python",
   "name": "python3"
  },
  "language_info": {
   "codemirror_mode": {
    "name": "ipython",
    "version": 3
   },
   "file_extension": ".py",
   "mimetype": "text/x-python",
   "name": "python",
   "nbconvert_exporter": "python",
   "pygments_lexer": "ipython3",
   "version": "3.8.6"
  }
 },
 "nbformat": 4,
 "nbformat_minor": 4
}
