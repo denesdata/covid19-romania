{
 "cells": [
  {
   "cell_type": "code",
   "execution_count": 105,
   "metadata": {},
   "outputs": [
    {
     "name": "stdout",
     "output_type": "stream",
     "text": [
      "/home/jovyan/work\n"
     ]
    }
   ],
   "source": [
    "import pandas as pd, numpy as np\n",
    "from influxdb import DataFrameClient\n",
    "import json\n",
    "%cd /home/jovyan/work"
   ]
  },
  {
   "cell_type": "markdown",
   "metadata": {},
   "source": [
    "Set params"
   ]
  },
  {
   "cell_type": "code",
   "execution_count": 106,
   "metadata": {},
   "outputs": [],
   "source": [
    "purge=False\n",
    "# purge=True"
   ]
  },
  {
   "cell_type": "code",
   "execution_count": 107,
   "metadata": {},
   "outputs": [],
   "source": [
    "process_annoations=False\n",
    "# process_annoations=True"
   ]
  },
  {
   "cell_type": "code",
   "execution_count": 108,
   "metadata": {},
   "outputs": [],
   "source": [
    "# process_macro=False\n",
    "process_macro=True"
   ]
  },
  {
   "cell_type": "code",
   "execution_count": 109,
   "metadata": {},
   "outputs": [],
   "source": [
    "# write_out=False\n",
    "write_out=True"
   ]
  },
  {
   "cell_type": "code",
   "execution_count": 110,
   "metadata": {},
   "outputs": [],
   "source": [
    "full_overwrite=False\n",
    "# full_overwrite=True"
   ]
  },
  {
   "cell_type": "markdown",
   "metadata": {},
   "source": [
    "Load pre-params"
   ]
  },
  {
   "cell_type": "code",
   "execution_count": 111,
   "metadata": {},
   "outputs": [],
   "source": [
    "df0=pd.read_csv('df0.csv').set_index('date')\n",
    "df0.index=pd.to_datetime(df0.index)"
   ]
  },
  {
   "cell_type": "code",
   "execution_count": 112,
   "metadata": {},
   "outputs": [],
   "source": [
    "bets=json.loads(open('bets.json','r').read())"
   ]
  },
  {
   "cell_type": "code",
   "execution_count": 113,
   "metadata": {},
   "outputs": [],
   "source": [
    "severity=pd.read_csv('severity.csv').set_index('date')\n",
    "severity.index=pd.to_datetime(severity.index)"
   ]
  },
  {
   "cell_type": "code",
   "execution_count": 114,
   "metadata": {},
   "outputs": [],
   "source": [
    "mobility=pd.read_csv('mobility.csv').set_index('date')\n",
    "mobility.index=pd.to_datetime(mobility.index)"
   ]
  },
  {
   "cell_type": "code",
   "execution_count": 115,
   "metadata": {},
   "outputs": [],
   "source": [
    "mobility_mini=pd.read_csv('mobility_mini.csv').set_index('date')\n",
    "mobility_mini.index=pd.to_datetime(mobility_mini.index)"
   ]
  },
  {
   "cell_type": "markdown",
   "metadata": {},
   "source": [
    "Establish DB connection"
   ]
  },
  {
   "cell_type": "code",
   "execution_count": 116,
   "metadata": {},
   "outputs": [],
   "source": [
    "user = 'admin'\n",
    "password = open('auth/influxa.txt','r').read()\n",
    "host='influxdb'\n",
    "port=8086\n",
    "dbname='base'\n",
    "dbname_long='long'\n",
    "protocol = 'line' #'json'\n",
    "client = DataFrameClient(host, port, user, password, dbname)\n",
    "client_long = DataFrameClient(host, port, user, password, dbname_long)"
   ]
  },
  {
   "cell_type": "code",
   "execution_count": 117,
   "metadata": {},
   "outputs": [],
   "source": [
    "if purge:\n",
    "    client.drop_database(dbname)\n",
    "    client.drop_retention_policy(dbname)\n",
    "    client.create_database(dbname)\n",
    "    client.create_retention_policy(dbname, '600d', 1, default=True)\n",
    "    client_long.drop_database(dbname_long)\n",
    "    client_long.drop_retention_policy(dbname_long)\n",
    "    client_long.create_database(dbname_long)\n",
    "    client_long.create_retention_policy(dbname_long, '6000d', 1, default=True)"
   ]
  },
  {
   "cell_type": "code",
   "execution_count": 118,
   "metadata": {},
   "outputs": [],
   "source": [
    "htmlipath='../html/'\n",
    "htmlepath='//myserv-html.er/'\n",
    "htmlepath_other='//mybackupserv-html.er/'"
   ]
  },
  {
   "cell_type": "code",
   "execution_count": 119,
   "metadata": {},
   "outputs": [],
   "source": [
    "titles={'HU':\"Magyar\",'RO':'Română','EN':'English'}"
   ]
  },
  {
   "cell_type": "code",
   "execution_count": 120,
   "metadata": {},
   "outputs": [],
   "source": [
    "rtitles={titles[t]:t for t in titles}"
   ]
  },
  {
   "cell_type": "code",
   "execution_count": 121,
   "metadata": {},
   "outputs": [],
   "source": [
    "import requests\n",
    "grafana = \"http://grafana:3000/\"\n",
    "headers = {\n",
    "    'Authorization': 'Bearer '+open('auth/grafana.txt','r').read(),\n",
    "    'Accept': 'application/json',\n",
    "    'Content-Type': 'application/json'\n",
    "}"
   ]
  },
  {
   "cell_type": "code",
   "execution_count": 122,
   "metadata": {},
   "outputs": [],
   "source": [
    "response = requests.get(grafana+'api/folders', headers=headers)\n",
    "folders=json.loads(response.content)"
   ]
  },
  {
   "cell_type": "code",
   "execution_count": 123,
   "metadata": {},
   "outputs": [],
   "source": [
    "folder_id=[f['id'] for f in folders if f['title']=='My Grafana Folder'][0] #General"
   ]
  },
  {
   "cell_type": "code",
   "execution_count": 124,
   "metadata": {},
   "outputs": [],
   "source": [
    "response = requests.get(grafana+'api/search?folderIds='+str(folder_id), headers=headers)\n",
    "dashs=json.loads(response.content)"
   ]
  },
  {
   "cell_type": "code",
   "execution_count": 125,
   "metadata": {},
   "outputs": [],
   "source": [
    "uids={rtitles[d['title']]:d['uid'] for d in dashs if d['title'] in rtitles}\n",
    "iids={rtitles[d['title']]:d['id'] for d in dashs if d['title'] in rtitles}"
   ]
  },
  {
   "cell_type": "code",
   "execution_count": 126,
   "metadata": {},
   "outputs": [],
   "source": [
    "uids_light={rtitles[d['title'].split(' Light')[0]]:d['uid'] for d in dashs if 'Light' in d['title']}\n",
    "iids_light={rtitles[d['title'].split(' Light')[0]]:d['id'] for d in dashs if 'Light' in d['title']}"
   ]
  },
  {
   "cell_type": "code",
   "execution_count": 127,
   "metadata": {},
   "outputs": [],
   "source": [
    "# response = requests.get(grafana+'api/dashboards/uid/hu-test', headers=headers)\n",
    "# model=json.loads(response.content)['dashboard']\n",
    "# open('hu-test.json','w').write(json.dumps(model))"
   ]
  },
  {
   "cell_type": "code",
   "execution_count": 128,
   "metadata": {},
   "outputs": [],
   "source": [
    "languages=['HU','RO','EN']"
   ]
  },
  {
   "cell_type": "code",
   "execution_count": 129,
   "metadata": {},
   "outputs": [],
   "source": [
    "url='https://docs.google.com/spreadsheets/d/'+open('auth/sheet.txt','r').read()+'/gviz/tq?tqx=out:csv&sheet='"
   ]
  },
  {
   "cell_type": "code",
   "execution_count": 130,
   "metadata": {},
   "outputs": [],
   "source": [
    "def get_szotar():\n",
    "    sheet='szotar'\n",
    "    columns=languages+[i+'_description' for i in languages]+[i+'_source' for i in languages]\n",
    "    df=pd.read_csv(url+sheet)\n",
    "    df=df[['ID','UI']+columns]\n",
    "    sheet='minidashboard'\n",
    "    df2=pd.read_csv(url+sheet)\n",
    "    df2=df2[['ID','UI']+columns]\n",
    "    df=pd.concat([df,df2])\n",
    "    szotardf=df.set_index('ID')[columns]\n",
    "    szotar=df.set_index('ID').T.to_dict()\n",
    "    szotarHU=df.set_index('HU',drop=False).T.to_dict()\n",
    "    szotarRO=df.set_index('RO',drop=False).T.to_dict()\n",
    "    szotarEN=df.set_index('EN',drop=False).T.to_dict()\n",
    "    return szotardf,szotar,szotarHU,szotarRO,szotarEN"
   ]
  },
  {
   "cell_type": "code",
   "execution_count": 131,
   "metadata": {},
   "outputs": [],
   "source": [
    "def resolve_time_conflicts(series):\n",
    "    ds={}\n",
    "    ts=[]\n",
    "    for d in series:\n",
    "        if d not in ds:\n",
    "            ds[d]=pd.to_datetime(d)\n",
    "            t=(ds[d])\n",
    "        else:\n",
    "            ds[d]=ds[d]+pd.to_timedelta('193m')\n",
    "            t=(ds[d])\n",
    "        ts.append(t)\n",
    "    return ts"
   ]
  },
  {
   "cell_type": "markdown",
   "metadata": {},
   "source": [
    "# Influx"
   ]
  },
  {
   "cell_type": "code",
   "execution_count": 132,
   "metadata": {},
   "outputs": [
    {
     "name": "stderr",
     "output_type": "stream",
     "text": [
      "<ipython-input-130-77652dbc15c9>:12: UserWarning: DataFrame columns are not unique, some columns will be omitted.\n",
      "  szotarHU=df.set_index('HU',drop=False).T.to_dict()\n",
      "<ipython-input-130-77652dbc15c9>:13: UserWarning: DataFrame columns are not unique, some columns will be omitted.\n",
      "  szotarRO=df.set_index('RO',drop=False).T.to_dict()\n",
      "<ipython-input-130-77652dbc15c9>:14: UserWarning: DataFrame columns are not unique, some columns will be omitted.\n",
      "  szotarEN=df.set_index('EN',drop=False).T.to_dict()\n"
     ]
    }
   ],
   "source": [
    "szotardf,szotar,szotarHU,szotarRO,szotarEN=get_szotar()"
   ]
  },
  {
   "cell_type": "code",
   "execution_count": 133,
   "metadata": {},
   "outputs": [],
   "source": [
    "import time\n",
    "import datetime\n",
    "import pytz\n",
    "utc=pytz.UTC"
   ]
  },
  {
   "cell_type": "code",
   "execution_count": 134,
   "metadata": {},
   "outputs": [
    {
     "name": "stdout",
     "output_type": "stream",
     "text": [
      "2021-05-02 2021-05-02\n"
     ]
    }
   ],
   "source": [
    "latest=df0.index[-1].date()\n",
    "now=str(pd.to_datetime(\"now\"))[:10]\n",
    "print(latest,now)"
   ]
  },
  {
   "cell_type": "code",
   "execution_count": 135,
   "metadata": {},
   "outputs": [],
   "source": [
    "current=int(df0['case14'][-1])"
   ]
  },
  {
   "cell_type": "markdown",
   "metadata": {},
   "source": [
    "# Grafana"
   ]
  },
  {
   "cell_type": "code",
   "execution_count": 136,
   "metadata": {},
   "outputs": [
    {
     "data": {
      "text/plain": [
       "('432', 28351, '28&nbsp;351', '02', '01:41')"
      ]
     },
     "execution_count": 136,
     "metadata": {},
     "output_type": "execute_result"
    }
   ],
   "source": [
    "today0=now[-2:]\n",
    "if today0[0]=='0': \n",
    "    today=today0[1]\n",
    "else:\n",
    "    today=today0\n",
    "currents=str(current)[:-3]+'&nbsp;'+str(current)[-3:]\n",
    "hour=str(pd.to_datetime('now')+pd.to_timedelta('3h'))[11:16]\n",
    "str(szotar['report']['UI'][1:]),current,currents,today0,hour"
   ]
  },
  {
   "cell_type": "code",
   "execution_count": 137,
   "metadata": {},
   "outputs": [],
   "source": [
    "def darken2(color):\n",
    "    return '#'+str(hex(int(\"0x\"+color[1:], 16) & 0xfefefe >> 1))[2:]\n",
    "def brighten2(color):\n",
    "    return '#'+str(hex(int(\"0x\"+color[1:], 16) & 0x7f7f7f << 1))[2:]\n",
    "def adjust_lightness(color, amount=0.5):\n",
    "    import matplotlib.colors as mc\n",
    "    import colorsys\n",
    "    try:\n",
    "        c = mc.cnames[color]\n",
    "    except:\n",
    "        c = color\n",
    "    c = colorsys.rgb_to_hls(*mc.to_rgb(c))\n",
    "    return mc.rgb2hex(colorsys.hls_to_rgb(c[0], max(0, min(1, amount * c[1])), c[2]))"
   ]
  },
  {
   "cell_type": "code",
   "execution_count": 138,
   "metadata": {},
   "outputs": [],
   "source": [
    "# szotardf,szotar,szotarHU,szotarRO,szotarEN=get_szotar()"
   ]
  },
  {
   "cell_type": "code",
   "execution_count": 139,
   "metadata": {},
   "outputs": [],
   "source": [
    "colors_to_darken=['#F2CC0C','#CA95E5','#FF780A','#E0B400','#96D98D','#F2495C','#E02F44',\n",
    "                  'lime','#73BF69','#8AB8FF','#3274D9','#D3D3D3','#FF7383','#FADE2A']"
   ]
  },
  {
   "cell_type": "markdown",
   "metadata": {},
   "source": [
    "# Maps"
   ]
  },
  {
   "cell_type": "code",
   "execution_count": 140,
   "metadata": {},
   "outputs": [],
   "source": [
    "top=3"
   ]
  },
  {
   "cell_type": "code",
   "execution_count": 141,
   "metadata": {},
   "outputs": [],
   "source": [
    "iso_counties=json.loads(open(htmlipath+'panels/iso_counties.json','r').read())"
   ]
  },
  {
   "cell_type": "code",
   "execution_count": 142,
   "metadata": {},
   "outputs": [],
   "source": [
    "georo=json.loads(open(htmlipath+'panels/romania-counties.json','r').read())\n",
    "georoco={i['properties']['NAME_1']:i['properties']['ID_1'] for i in georo['objects']['ROU_adm1']['geometries']}   \n",
    "georoco['București']=georoco['Bucharest']"
   ]
  },
  {
   "cell_type": "markdown",
   "metadata": {},
   "source": [
    "Locality map"
   ]
  },
  {
   "cell_type": "code",
   "execution_count": 143,
   "metadata": {},
   "outputs": [],
   "source": [
    "datagov2a=pd.read_excel('https://data.gov.ro/dataset/b86a78a3-7f88-4b53-a94f-015082592466/resource/d0b60b45-fb08-4980-a34c-8cbb4a43cad3/download/transparenta_martie_2021.xlsx',skiprows=1)\n",
    "datagov2b=pd.read_excel('https://data.gov.ro/dataset/b86a78a3-7f88-4b53-a94f-015082592466/resource/d3280256-07cc-4f93-957a-9815085899be/download/transparenta_aprilie_2021.xlsx',skiprows=1)\n",
    "datagov2c=pd.read_excel('https://data.gov.ro/dataset/b86a78a3-7f88-4b53-a94f-015082592466/resource/12980ac2-f459-4b42-905d-16b93bde62ba/download/transparenta_mai_2021.xlsx',skiprows=1)"
   ]
  },
  {
   "cell_type": "code",
   "execution_count": 144,
   "metadata": {},
   "outputs": [],
   "source": [
    "datagov2=datagov2a.set_index(['Judet','UAT']).join(datagov2b.set_index(['Judet','UAT'])).join(datagov2c.set_index(['Judet','UAT'])).reset_index()"
   ]
  },
  {
   "cell_type": "code",
   "execution_count": 145,
   "metadata": {},
   "outputs": [],
   "source": [
    "# del datagov1a\n",
    "# del datagov1b\n",
    "del datagov2a\n",
    "del datagov2b\n",
    "del datagov2c"
   ]
  },
  {
   "cell_type": "code",
   "execution_count": 146,
   "metadata": {},
   "outputs": [],
   "source": [
    "uat=json.loads(open(htmlipath+'panels/uat_simplificat.geojson','r').read())"
   ]
  },
  {
   "cell_type": "code",
   "execution_count": 147,
   "metadata": {},
   "outputs": [],
   "source": [
    "locs=[]\n",
    "for f in uat['features']:\n",
    "    locs.append(f['properties'])\n",
    "locs=pd.DataFrame(locs)[['judet','uat','siruta']]"
   ]
  },
  {
   "cell_type": "code",
   "execution_count": 148,
   "metadata": {},
   "outputs": [],
   "source": [
    "def judetconverter(c):\n",
    "    return (' '.join([i.capitalize() for i in c.split(' ')])).replace('ţ','ț').replace('ş','ș').replace('năsăud','Năsăud').\\\n",
    "        replace('severin','Severin').replace('mare','Mare').\\\n",
    "        replace('Municipiul București','Bucharest').replace('București','Bucharest')"
   ]
  },
  {
   "cell_type": "code",
   "execution_count": 149,
   "metadata": {},
   "outputs": [],
   "source": [
    "geo_iso=pd.DataFrame(iso_counties,index=['index']).T.reset_index().set_index('index').join(\\\n",
    "    pd.DataFrame(georoco,index=['geo_id']).T.reset_index().set_index('index')).reset_index()\n",
    "geo_iso.columns=['en','iso2','geo_id']"
   ]
  },
  {
   "cell_type": "code",
   "execution_count": 150,
   "metadata": {},
   "outputs": [],
   "source": [
    "locs['judet_norm']=[judetconverter(i) for i in locs['judet']]\n",
    "datagov2['judet_norm']=[judetconverter(i) for i in datagov2['Judet']]"
   ]
  },
  {
   "cell_type": "code",
   "execution_count": 151,
   "metadata": {},
   "outputs": [],
   "source": [
    "def uatconverter(judet,c):\n",
    "    c=(' '.join(['-'.join([b.capitalize() for b in a.split('-')]) for a in c.split(' ')]))\\\n",
    "        .replace('ţ','ț').replace('ş','ș').replace('Ţ','Ț').replace('Ş','Ș')\\\n",
    "        .replace('î','â').replace(' De ',' de ')\\\n",
    "        .replace('Cuza Voda','Cuza Vodă')\n",
    "    \n",
    "    if (judet=='Dolj'):\n",
    "        c=c.replace('Segarcea','Șegarcea')\n",
    "    elif (judet=='Teleorman'):\n",
    "        c=c.replace('Turnu Magurele','Turnu Măgurele')\n",
    "    elif (judet=='Olt'):\n",
    "        c=c.replace('Ipotesti','Ipotești')\n",
    "    elif (judet=='Alba'):\n",
    "        c=c.replace('Râmetea','Rimetea')\n",
    "    elif (judet=='Constanța'):\n",
    "        c=c.replace('44066','')\n",
    "    elif (judet=='Ialomița'):\n",
    "        c=c.replace('Radulești','Rădulești')\n",
    "    elif (judet=='Argeș'):\n",
    "        c=c.replace('Ciofringeni','Ciofrângeni')\\\n",
    "        .replace('Valea Mare Pravăț','Valea Mare-Pravăț')\n",
    "    elif (judet=='Vâlcea'):\n",
    "        c=c.replace('Păusești-Măglași','Păușești-Măglași')\n",
    "    elif (judet=='Prahova'):\n",
    "        c=c.replace('Cocorastii Colt','Cocorăștii Colț')\n",
    "    elif (judet=='Bucharest'):\n",
    "        c=c.replace('București Sectorul','Sector')\n",
    "    elif (judet=='Gorj'):\n",
    "        c=c.replace('Crușet','Crușeț')\n",
    "    elif (judet=='Brăila'):\n",
    "        c=c.replace('Racoviță','Racovița')\\\n",
    "        .replace('Gradiștea','Grădiștea')\\\n",
    "        .replace('Chișcani','Chiscani')\n",
    "    elif (judet=='Cluj'):\n",
    "        c=c.replace('Râșca','Rișca')\n",
    "    elif (judet=='Botoșani'):\n",
    "        c=c.replace('Răușeni','Răuseni')\n",
    "    elif (judet=='Maramureș'):\n",
    "        c=c.replace('Șisești','Șișești')\n",
    "    elif (judet=='Brașov'):\n",
    "        c=c.replace('Sambata de Sus','Sâmbăta de Sus')\n",
    "    elif (judet=='Vaslui'):\n",
    "        c=c.replace('Tătărăni','Tătărani')\n",
    "    elif (judet=='Iași'):\n",
    "        c=c.replace('Țigănăși','Țigănași')\n",
    "    elif (judet=='Bistrița-Năsăud'):\n",
    "        c=c.replace('Ilva Mica','Ilva Mică')\n",
    "    elif (judet=='Bihor'):\n",
    "        c=c.replace('Sănnicolau Romăn','Sânnicolau Român')\n",
    "    elif (judet=='Mureș'):\n",
    "        c=c.replace('Sarmașu','Sărmașu')\n",
    "    return c"
   ]
  },
  {
   "cell_type": "code",
   "execution_count": 152,
   "metadata": {},
   "outputs": [],
   "source": [
    "datagov2['uat_norm']=[(' '.join(['-'.join([b.capitalize() for b in a.split('-')]) for a in u.split(' ')]))\\\n",
    "                      .replace('ţ','ț').replace('ş','ș').replace('Ţ','Ț').replace('Ş','Ș')\\\n",
    "                      .replace(' De ',' de ').replace('Municipiul ','').replace('Oraș ','')\\\n",
    "                      for u in datagov2['UAT']]"
   ]
  },
  {
   "cell_type": "code",
   "execution_count": 153,
   "metadata": {},
   "outputs": [
    {
     "name": "stdout",
     "output_type": "stream",
     "text": [
      "Constanța 44066 \n",
      "  \n"
     ]
    }
   ],
   "source": [
    "uat_norms=[]\n",
    "for judet in locs['judet_norm'].unique():\n",
    "    for l in locs[locs['judet_norm']==judet]['uat'].unique():\n",
    "        u=uatconverter(judet,str(l))\n",
    "        if u not in datagov2[datagov2['judet_norm']==judet]['uat_norm'].unique():\n",
    "            u=u.replace(' ','-')\n",
    "            if u not in datagov2[datagov2['judet_norm']==judet]['uat_norm'].unique():\n",
    "                print(judet,l,u)\n",
    "                u=''\n",
    "        uat_norms.append({'judet_norm':judet,'uat_norm':u,'uat':l})"
   ]
  },
  {
   "cell_type": "code",
   "execution_count": 154,
   "metadata": {},
   "outputs": [],
   "source": [
    "locs2=locs.set_index(['judet_norm','uat']).join(pd.DataFrame(uat_norms).set_index(['judet_norm','uat'])).reset_index()"
   ]
  },
  {
   "cell_type": "code",
   "execution_count": 155,
   "metadata": {},
   "outputs": [],
   "source": [
    "datagov3=datagov2.set_index(['judet_norm','uat_norm']).join(locs2.set_index(['judet_norm','uat_norm']))\n",
    "datagov3=datagov3.set_index(['judet','uat','siruta'],append=True).drop(['UAT','Judet'],axis=1)\n",
    "datagov3.index=datagov3.index.reorder_levels([2,3,4,0,1])\n",
    "datagov3_dates=[str(pd.to_datetime(c)) for c in datagov3.columns]"
   ]
  },
  {
   "cell_type": "code",
   "execution_count": 156,
   "metadata": {},
   "outputs": [],
   "source": [
    "datagov3=datagov3.round(2)"
   ]
  },
  {
   "cell_type": "code",
   "execution_count": 157,
   "metadata": {},
   "outputs": [],
   "source": [
    "datagov3.reset_index().to_csv('github/data/time_series_ro_uat_daily.csv')"
   ]
  },
  {
   "cell_type": "code",
   "execution_count": 158,
   "metadata": {},
   "outputs": [],
   "source": [
    "del datagov2"
   ]
  },
  {
   "cell_type": "code",
   "execution_count": null,
   "metadata": {},
   "outputs": [],
   "source": [
    "def cat(r):\n",
    "    if r<1: return '< 1 ‰'\n",
    "    elif r<2: return '1-2 ‰'\n",
    "    elif r<4: return '2-4 ‰'\n",
    "    elif r<6: return '4-6 ‰'\n",
    "    elif r<8: return '6-8 ‰'\n",
    "    elif r<10: return '8-10 ‰'\n",
    "    elif r<20: return '> 10-20 ‰'\n",
    "    else: return '> 20 ‰'\n",
    "def cat2(r):\n",
    "    if r<1: return 0\n",
    "    elif r<2: return 1\n",
    "    elif r<4: return 2\n",
    "    elif r<6: return 3\n",
    "    elif r<8: return 4\n",
    "    elif r<10: return 5\n",
    "    elif r<20: return 6\n",
    "    else: return 7"
   ]
  },
  {
   "cell_type": "code",
   "execution_count": null,
   "metadata": {},
   "outputs": [],
   "source": [
    "t=0\n",
    "new_uat={'type':'FeatureCollection','features':[]}\n",
    "new_uat_numbers=[]\n",
    "new_uat_daily={'type':'FeatureCollection','features':[]}\n",
    "for i in range(len(uat['features'])):\n",
    "    dummy={}\n",
    "    judet=uat['features'][i]['properties']['judet']\n",
    "    if (judet!=''):\n",
    "        u=uat['features'][i]['properties']['uat']\n",
    "        siruta=uat['features'][i]['properties']['siruta']\n",
    "        # dummy={'judet':judet,'uat':u,'siruta':siruta}\n",
    "        if u in datagov3.loc[judet].index:\n",
    "            d=datagov3.loc[judet].loc[u].loc[siruta]\n",
    "            values=d.values[0]\n",
    "            dummy['🌄']=d.index[0][0]\n",
    "            dummy['🏠']=d.index[0][1]\n",
    "            for t in range(len(values)):\n",
    "                value=values[t]\n",
    "                date=datagov3_dates[t]\n",
    "                dummy['📈']=value\n",
    "                dummy['🔴']=cat(value)\n",
    "                dummy['⚫']=cat2(value)\n",
    "                dummy['📆']=date\n",
    "                feature={'type':'Feature','geometry':uat['features'][i]['geometry'],'properties':dummy.copy()}\n",
    "                new_uat['features'].append(feature)\n",
    "                new_uat_numbers.append(dummy.copy())\n",
    "                if (t==len(datagov3_dates)-1):\n",
    "                    new_uat_daily['features'].append(feature)"
   ]
  },
  {
   "cell_type": "code",
   "execution_count": null,
   "metadata": {},
   "outputs": [],
   "source": [
    "open(htmlipath+'panels/new_uat_numbers.json','w').write(json.dumps(new_uat_numbers))\n",
    "# open(htmlipath+'panels/new_uat.json','w').write(json.dumps(new_uat))"
   ]
  },
  {
   "cell_type": "code",
   "execution_count": null,
   "metadata": {},
   "outputs": [],
   "source": [
    "#Kepler.gl export\n",
    "open(htmlipath+'panels/daily/new_uat'+date[:10]+'.json','w').write(json.dumps(new_uat_daily))\n",
    "open(htmlipath+'panels/new_uat_daily.json','w').write(json.dumps(new_uat_daily))"
   ]
  },
  {
   "cell_type": "code",
   "execution_count": null,
   "metadata": {},
   "outputs": [],
   "source": [
    "del new_uat"
   ]
  },
  {
   "cell_type": "code",
   "execution_count": null,
   "metadata": {},
   "outputs": [],
   "source": [
    "#D3plus export"
   ]
  },
  {
   "cell_type": "code",
   "execution_count": null,
   "metadata": {},
   "outputs": [],
   "source": [
    "datagov4=datagov3.stack().reset_index()\n",
    "datagov4.columns=['judet','uat','id','judet_norm','uat_norm','date','value']\n",
    "datagov4['value']=np.round(datagov4['value'],2)\n",
    "# datagov4=datagov4.dropna(subset=['judet'])\n",
    "datagov4=datagov4.dropna(how='any')"
   ]
  },
  {
   "cell_type": "code",
   "execution_count": null,
   "metadata": {},
   "outputs": [],
   "source": [
    "open(htmlipath+'panels/daily/uat2b_'+date[:10]+'.json','w').write(json.dumps(list(datagov4.T.to_dict().values())))"
   ]
  },
  {
   "cell_type": "code",
   "execution_count": null,
   "metadata": {},
   "outputs": [],
   "source": [
    "# #HTML overwrite\n",
    "# cases_localities=open(htmlipath+'panels/cases_localities.html','r').read()\n",
    "# cases_localities=cases_localities[:cases_localities.find('daily/uat2b_\\' + \\'2021-')+17]+latest+cases_localities[cases_localities.find('daily/uat2b_\\' + \\'2021-')+27:]\n",
    "# open(htmlipath+'panels/cases_localities.html','w').write(cases_localities)\n",
    "# #### CHECK IF LATEST DATE IS ONE LESS than latest"
   ]
  },
  {
   "cell_type": "markdown",
   "metadata": {},
   "source": [
    "Restrictions"
   ]
  },
  {
   "cell_type": "code",
   "execution_count": null,
   "metadata": {},
   "outputs": [],
   "source": [
    "df2=pd.DataFrame(new_uat_numbers)\n",
    "df4=df2[['🌄', '🏠', '📈','📆']].set_index(['🌄', '🏠', '📆']).unstack()['📈'].sort_index(axis=1)"
   ]
  },
  {
   "cell_type": "code",
   "execution_count": null,
   "metadata": {},
   "outputs": [],
   "source": [
    "def restrictie(x,w):\n",
    "    if x>7.5: return 4\n",
    "    elif x>7:\n",
    "        if w>7.5: return 3\n",
    "        else: return 2\n",
    "    elif x>4: return 2\n",
    "    elif x>3.5:\n",
    "        if w>4: return 1\n",
    "        else: return 0\n",
    "    else:\n",
    "        return 0\n",
    "    \n",
    "def restrictie2(x,w):\n",
    "    if x>7.5: return '7.5+'\n",
    "    elif x>7:\n",
    "        if w>7.5: return '7.5-'\n",
    "        else: return '4+'\n",
    "    elif x>4: return '4+'\n",
    "    elif x>3.5:\n",
    "        if w>4: return '4-'\n",
    "        else: return '0'\n",
    "    else:\n",
    "        return '0'"
   ]
  },
  {
   "cell_type": "code",
   "execution_count": null,
   "metadata": {},
   "outputs": [],
   "source": [
    "dr=[]\n",
    "for i in df4.T.iteritems():\n",
    "    v=i[1]\n",
    "    #print(i[0])\n",
    "    for j in range(len(v)):\n",
    "        t=v.index[j]\n",
    "        x=v[j]\n",
    "        y=v[j-min(14,j):j].values\n",
    "        w=x\n",
    "        if len(y):\n",
    "            w=max(y)\n",
    "        r=restrictie(x,w)\n",
    "        #print(j,t,x,w,r)\n",
    "        dr.append({'🌄':i[0][0], '🏠':i[0][1], '🚦':r,'📆':t})"
   ]
  },
  {
   "cell_type": "code",
   "execution_count": 81,
   "metadata": {},
   "outputs": [],
   "source": [
    "dp=pd.DataFrame(dr).set_index(['🌄', '🏠','📆']).astype(float)"
   ]
  },
  {
   "cell_type": "code",
   "execution_count": 82,
   "metadata": {},
   "outputs": [],
   "source": [
    "for i in new_uat_daily['features']:\n",
    "    i['properties']['🚦']=dp.loc[i['properties']['🌄']].loc[i['properties']['🏠']].loc[i['properties']['📆']]['🚦']"
   ]
  },
  {
   "cell_type": "code",
   "execution_count": null,
   "metadata": {},
   "outputs": [],
   "source": [
    "open(htmlipath+'panels/new_uat_daily2.json','w').write(json.dumps(new_uat_daily))\n",
    "open(htmlipath+'panels/daily/new_uat_daily2_'+date[:10]+'.json','w').write(json.dumps(new_uat_daily))\n",
    "open('uat_daily.json','w').write(json.dumps(new_uat_daily))"
   ]
  },
  {
   "cell_type": "code",
   "execution_count": 85,
   "metadata": {},
   "outputs": [
    {
     "data": {
      "text/plain": [
       "21104"
      ]
     },
     "execution_count": 85,
     "metadata": {},
     "output_type": "execute_result"
    }
   ],
   "source": [
    "#HTML overwrite\n",
    "uat_html=open(htmlipath+'panels/daily/mapbox-'+date[:10]+'.html','r').read()\n",
    "uat_html=uat_html.replace(date[5:10],date[5:8]+today0).replace(date[5:10],date[5:8]+today0)\n",
    "uat_html=uat_html[:uat_html.find('.json')-2]+\\\n",
    "    str(pd.to_datetime(now)+pd.to_timedelta('-1d'))[8:10]+\\\n",
    "    uat_html[uat_html.find('.json'):]\n",
    "open(htmlipath+'panels/daily/mapbox-'+date[:8]+today0+'.html','w').write(uat_html)"
   ]
  },
  {
   "cell_type": "markdown",
   "metadata": {},
   "source": [
    "Upload to `uat.json` to mapbox"
   ]
  },
  {
   "cell_type": "code",
   "execution_count": 88,
   "metadata": {},
   "outputs": [],
   "source": [
    "#Mapbox colors:\n",
    "# 239e69\n",
    "# f5d232\n",
    "# c52b69\n",
    "# 850237"
   ]
  },
  {
   "cell_type": "code",
   "execution_count": 89,
   "metadata": {},
   "outputs": [],
   "source": [
    "#Add szekelydata GitHub update\n",
    "#Add mapbox direct upload"
   ]
  },
  {
   "cell_type": "code",
   "execution_count": 90,
   "metadata": {},
   "outputs": [
    {
     "data": {
      "text/html": [
       "<div>\n",
       "<style scoped>\n",
       "    .dataframe tbody tr th:only-of-type {\n",
       "        vertical-align: middle;\n",
       "    }\n",
       "\n",
       "    .dataframe tbody tr th {\n",
       "        vertical-align: top;\n",
       "    }\n",
       "\n",
       "    .dataframe thead tr th {\n",
       "        text-align: left;\n",
       "    }\n",
       "</style>\n",
       "<table border=\"1\" class=\"dataframe\">\n",
       "  <thead>\n",
       "    <tr>\n",
       "      <th>siruta</th>\n",
       "      <th>54975</th>\n",
       "    </tr>\n",
       "    <tr>\n",
       "      <th>judet_norm</th>\n",
       "      <th>Cluj</th>\n",
       "    </tr>\n",
       "    <tr>\n",
       "      <th>uat_norm</th>\n",
       "      <th>Cluj-Napoca</th>\n",
       "    </tr>\n",
       "  </thead>\n",
       "  <tbody>\n",
       "    <tr>\n",
       "      <th>2021-04-29</th>\n",
       "      <td>2.62</td>\n",
       "    </tr>\n",
       "    <tr>\n",
       "      <th>2021-04-30</th>\n",
       "      <td>2.49</td>\n",
       "    </tr>\n",
       "    <tr>\n",
       "      <th>2021-05-01</th>\n",
       "      <td>2.33</td>\n",
       "    </tr>\n",
       "  </tbody>\n",
       "</table>\n",
       "</div>"
      ],
      "text/plain": [
       "siruta           54975\n",
       "judet_norm        Cluj\n",
       "uat_norm   Cluj-Napoca\n",
       "2021-04-29        2.62\n",
       "2021-04-30        2.49\n",
       "2021-05-01        2.33"
      ]
     },
     "execution_count": 90,
     "metadata": {},
     "output_type": "execute_result"
    }
   ],
   "source": [
    "#Sanity check\n",
    "datagov3.loc['Cluj'].loc['Cluj-Napoca'].T.tail(3)"
   ]
  },
  {
   "cell_type": "markdown",
   "metadata": {},
   "source": [
    "Mapbox upload"
   ]
  },
  {
   "cell_type": "code",
   "execution_count": 91,
   "metadata": {},
   "outputs": [],
   "source": [
    "import requests"
   ]
  },
  {
   "cell_type": "code",
   "execution_count": 92,
   "metadata": {},
   "outputs": [],
   "source": [
    "mapbox_api_key = open('auth/mapbox.txt','r').read()"
   ]
  },
  {
   "cell_type": "markdown",
   "metadata": {},
   "source": [
    "Create tileset source"
   ]
  },
  {
   "cell_type": "code",
   "execution_count": 93,
   "metadata": {},
   "outputs": [
    {
     "name": "stdout",
     "output_type": "stream",
     "text": [
      "Validating features\n",
      "✔ valid\n"
     ]
    }
   ],
   "source": [
    "!tilesets validate-source uat_daily.json"
   ]
  },
  {
   "cell_type": "code",
   "execution_count": null,
   "metadata": {},
   "outputs": [],
   "source": [
    "!tilesets upload-source <MAPBOX_USER> roeim uat_daily.json --replace --token $mapbox_api_key"
   ]
  },
  {
   "cell_type": "code",
   "execution_count": 95,
   "metadata": {},
   "outputs": [],
   "source": [
    "%%capture cap_out\n",
    "!tilesets publish <MAPBOX_USER>.roeim --token $mapbox_api_key"
   ]
  },
  {
   "cell_type": "code",
   "execution_count": null,
   "metadata": {},
   "outputs": [],
   "source": [
    "jobid=json.loads(cap_out.stdout.split('}')[0]+'}')['jobId']\n",
    "!tilesets job <MAPBOX_USER>.roeim $jobid --token $mapbox_api_key"
   ]
  },
  {
   "cell_type": "markdown",
   "metadata": {},
   "source": [
    "Wait 3 min"
   ]
  },
  {
   "cell_type": "code",
   "execution_count": null,
   "metadata": {},
   "outputs": [],
   "source": [
    "import time\n",
    "for i in range(18):\n",
    "    time.sleep(10)\n",
    "    print(i)"
   ]
  },
  {
   "cell_type": "markdown",
   "metadata": {},
   "source": [
    "Push to Grafana"
   ]
  },
  {
   "cell_type": "code",
   "execution_count": 150,
   "metadata": {},
   "outputs": [
    {
     "name": "stdout",
     "output_type": "stream",
     "text": [
      "<Response [200]> b'{\"id\":2,\"slug\":\"magyar\",\"status\":\"success\",\"uid\":\"hu\",\"url\":\"/d/hu/magyar\",\"version\":373}'\n",
      "<Response [200]> b'{\"id\":5,\"slug\":\"magyar-light\",\"status\":\"success\",\"uid\":\"hu-light\",\"url\":\"/d/hu-light/magyar-light\",\"version\":189}'\n",
      "<Response [200]> b'{\"id\":3,\"slug\":\"romana\",\"status\":\"success\",\"uid\":\"ro\",\"url\":\"/d/ro/romana\",\"version\":283}'\n",
      "<Response [200]> b'{\"id\":6,\"slug\":\"romana-light\",\"status\":\"success\",\"uid\":\"ro-light\",\"url\":\"/d/ro-light/romana-light\",\"version\":183}'\n",
      "<Response [200]> b'{\"id\":4,\"slug\":\"english\",\"status\":\"success\",\"uid\":\"en\",\"url\":\"/d/en/english\",\"version\":237}'\n",
      "<Response [200]> b'{\"id\":7,\"slug\":\"english-light\",\"status\":\"success\",\"uid\":\"en-light\",\"url\":\"/d/en-light/english-light\",\"version\":181}'\n"
     ]
    }
   ],
   "source": [
    "nevuto={'0':'é','1':'é','2':'á','3':'á','4':'é','5':'é','6':'á','7':'é','8':'á','9':'é'}\n",
    "if len(today)<2: space=' '\n",
    "else: space=''\n",
    "for lang in languages:\n",
    "# for lang in ['HU']:\n",
    "    response = requests.get(grafana+'api/dashboards/uid/'+lang.lower(), headers=headers)\n",
    "    model=json.loads(response.content)['dashboard']\n",
    "    for i in model['panels']:\n",
    "        if lang=='HU':\n",
    "            #print(i['id'],i['type'],i['title'])\n",
    "            if i['id'] in (179, 91):\n",
    "                i['options']['iframeURL']=i['options']['iframeURL'][:i['options']['iframeURL'].find('.html#')-2]+\\\n",
    "                    today0+i['options']['iframeURL'][i['options']['iframeURL'].find('.html#'):]\n",
    "                i['description']=i['description'][:i['description'].find('n,')-4].strip()+' '+today+'-'+\\\n",
    "                    nevuto[now[-1]]+i['description'][i['description'].find('n,'):\\\n",
    "                    i['description'].find(':')-2]+hour+\\\n",
    "                    i['description'][i['description'].find(':')+3:]\n",
    "                i['title']=i['title'][:i['title'].rfind(' ')]+' '+today\n",
    "            if i['id']==82:\n",
    "                i['content']=i['content'][:i['content'].find('<b>')+3]+str(szotar['report']['UI'][1:])+\\\n",
    "                    i['content'][i['content'].find('</b>'):i['content'].rfind('<b>')+3]+currents+\\\n",
    "                    i['content'][i['content'].rfind('</b>'):]\n",
    "            if i['id']==93:\n",
    "                i['content']=i['content'][:i['content'].rfind('</b>')-2]+today0+\\\n",
    "                i['content'][i['content'].rfind('</b>'):]\n",
    "        elif lang=='EN':\n",
    "            if i['id'] in (153, 91):\n",
    "                i['options']['iframeURL']=i['options']['iframeURL'][:i['options']['iframeURL'].find('.html#')-2]+\\\n",
    "                    today0+i['options']['iframeURL'][i['options']['iframeURL'].find('.html#'):]\n",
    "                i['description']=i['description'][:i['description'].find(':')-2]+hour+' on '+today+' '+ i['description'][i['description'].find('on ')+5:]\n",
    "                i['title']=i['title'][:i['title'].find('📆')+2]+today+i['title'][i['title'].find('📆')+3:]\n",
    "            if i['id']==82:\n",
    "                i['content']=i['content'][:i['content'].find('<b>')+3]+str(szotar['report']['UI'][1:])+\\\n",
    "                    i['content'][i['content'].find('</b>'):i['content'].rfind('<b>')+3]+currents+\\\n",
    "                    i['content'][i['content'].rfind('</b>'):]\n",
    "            if i['id']==93:\n",
    "                i['content']=i['content'][:i['content'].rfind('</b>')-2]+today0+\\\n",
    "                i['content'][i['content'].rfind('</b>'):]\n",
    "        elif lang=='RO':\n",
    "            if i['id'] in (153, 91):\n",
    "                i['options']['iframeURL']=i['options']['iframeURL'][:i['options']['iframeURL'].find('.html#')-2]+\\\n",
    "                    today0+i['options']['iframeURL'][i['options']['iframeURL'].find('.html#'):]\n",
    "                i['description']=i['description'][:i['description'].find(':')-2]+hour+' în data de '+today+ i['description'][i['description'].find('în data de ')+12:]\n",
    "                i['title']=i['title'][:i['title'].find('📆')+2]+today+i['title'][i['title'].find('📆')+3:]\n",
    "            if i['id']==82:\n",
    "                i['content']=i['content'][:i['content'].find('<b>')+3]+str(szotar['report']['UI'][1:])+\\\n",
    "                    i['content'][i['content'].find('</b>'):i['content'].rfind('<b>')+3]+currents+\\\n",
    "                    i['content'][i['content'].rfind('</b>'):]\n",
    "            if i['id']==93:\n",
    "                i['content']=i['content'][:i['content'].rfind('<b>')+3]+today0+\\\n",
    "                i['content'][i['content'].rfind('<b>')+5:]\n",
    "            \n",
    "    r=requests.post(grafana+'api/dashboards/db', headers=headers, json={\"dashboard\":model,\n",
    "                                                                            \"folderId\": folder_id,\n",
    "                                                                            \"overwrite\": True\n",
    "                                                                           })       \n",
    "    print(r,r.content)\n",
    "    open(lang+'.json','w').write(json.dumps(model))    \n",
    "    \n",
    "    model_light=json.dumps(model).replace('dark','light',9999).replace('lightGray','#52545C',9999)\\\n",
    "        .replace('#d3d3d3','#52545c',9999)\\\n",
    "        .replace('csaladen.es/favicon.ico\" style=\"','csaladen.es/favicon.ico\" style=\"filter: brightness(0.3);',9999)\n",
    "    for color in colors_to_darken:\n",
    "        model_light=model_light.replace(color,adjust_lightness(color,0.8),9999)\n",
    "        model_light=model_light.replace(color.lower(),adjust_lightness(color,0.8),9999)\n",
    "    model=json.loads(model_light)\n",
    "    model['title']=titles[lang]+' Light'\n",
    "    model['uid']=uids_light[lang]\n",
    "    model['id']=iids_light[lang]\n",
    "    r=requests.post(grafana+'api/dashboards/db', headers=headers, json={\"dashboard\":model,\n",
    "                                                                            \"folderId\": folder_id,\n",
    "                                                                            \"overwrite\": True\n",
    "                                                                           })    \n",
    "    print(r,r.content)\n",
    "    open(lang+'-light.json','w').write(json.dumps(model))   "
   ]
  }
 ],
 "metadata": {
  "kernelspec": {
   "display_name": "Python 3",
   "language": "python",
   "name": "python3"
  },
  "language_info": {
   "codemirror_mode": {
    "name": "ipython",
    "version": 3
   },
   "file_extension": ".py",
   "mimetype": "text/x-python",
   "name": "python",
   "nbconvert_exporter": "python",
   "pygments_lexer": "ipython3",
   "version": "3.8.8"
  }
 },
 "nbformat": 4,
 "nbformat_minor": 4
}
