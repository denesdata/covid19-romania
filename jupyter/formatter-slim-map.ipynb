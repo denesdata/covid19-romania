{
 "cells": [
  {
   "cell_type": "code",
   "execution_count": 1,
   "metadata": {},
   "outputs": [],
   "source": [
    "import pandas as pd, numpy as np\n",
    "from influxdb import DataFrameClient\n",
    "import json\n",
    "# import feedparser"
   ]
  },
  {
   "cell_type": "markdown",
   "metadata": {},
   "source": [
    "Set params"
   ]
  },
  {
   "cell_type": "code",
   "execution_count": 2,
   "metadata": {},
   "outputs": [],
   "source": [
    "purge=False\n",
    "# purge=True"
   ]
  },
  {
   "cell_type": "code",
   "execution_count": 3,
   "metadata": {},
   "outputs": [],
   "source": [
    "process_annoations=False\n",
    "# process_annoations=True"
   ]
  },
  {
   "cell_type": "code",
   "execution_count": 4,
   "metadata": {},
   "outputs": [],
   "source": [
    "# process_macro=False\n",
    "process_macro=True"
   ]
  },
  {
   "cell_type": "code",
   "execution_count": 5,
   "metadata": {},
   "outputs": [],
   "source": [
    "# write_out=False\n",
    "write_out=True"
   ]
  },
  {
   "cell_type": "code",
   "execution_count": 6,
   "metadata": {},
   "outputs": [],
   "source": [
    "full_overwrite=False\n",
    "# full_overwrite=True"
   ]
  },
  {
   "cell_type": "markdown",
   "metadata": {},
   "source": [
    "Load pre-params"
   ]
  },
  {
   "cell_type": "code",
   "execution_count": 7,
   "metadata": {},
   "outputs": [],
   "source": [
    "df0=pd.read_csv('df0.csv').set_index('date')\n",
    "df0.index=pd.to_datetime(df0.index)"
   ]
  },
  {
   "cell_type": "code",
   "execution_count": 8,
   "metadata": {},
   "outputs": [],
   "source": [
    "bets=json.loads(open('bets.json','r').read())"
   ]
  },
  {
   "cell_type": "code",
   "execution_count": 9,
   "metadata": {},
   "outputs": [],
   "source": [
    "severity=pd.read_csv('severity.csv').set_index('date')\n",
    "severity.index=pd.to_datetime(severity.index)"
   ]
  },
  {
   "cell_type": "code",
   "execution_count": 10,
   "metadata": {},
   "outputs": [],
   "source": [
    "mobility=pd.read_csv('mobility.csv').set_index('date')\n",
    "mobility.index=pd.to_datetime(mobility.index)"
   ]
  },
  {
   "cell_type": "code",
   "execution_count": 11,
   "metadata": {},
   "outputs": [],
   "source": [
    "mobility_mini=pd.read_csv('mobility_mini.csv').set_index('date')\n",
    "mobility_mini.index=pd.to_datetime(mobility_mini.index)"
   ]
  },
  {
   "cell_type": "markdown",
   "metadata": {},
   "source": [
    "Establish DB connection"
   ]
  },
  {
   "cell_type": "code",
   "execution_count": 12,
   "metadata": {},
   "outputs": [],
   "source": [
    "user = 'admin'\n",
    "password = open('auth/influxa.txt','r').read()\n",
    "host='influxdb'\n",
    "port=8086\n",
    "dbname='base'\n",
    "dbname_long='long'\n",
    "protocol = 'line' #'json'\n",
    "client = DataFrameClient(host, port, user, password, dbname)\n",
    "client_long = DataFrameClient(host, port, user, password, dbname_long)"
   ]
  },
  {
   "cell_type": "code",
   "execution_count": 13,
   "metadata": {},
   "outputs": [],
   "source": [
    "if purge:\n",
    "    client.drop_database(dbname)\n",
    "    client.drop_retention_policy(dbname)\n",
    "    client.create_database(dbname)\n",
    "    client.create_retention_policy(dbname, '600d', 1, default=True)\n",
    "    client_long.drop_database(dbname_long)\n",
    "    client_long.drop_retention_policy(dbname_long)\n",
    "    client_long.create_database(dbname_long)\n",
    "    client_long.create_retention_policy(dbname_long, '6000d', 1, default=True)"
   ]
  },
  {
   "cell_type": "code",
   "execution_count": 14,
   "metadata": {},
   "outputs": [],
   "source": [
    "htmlipath='../html/'\n",
    "htmlepath='//covid-large-html.csaladen.es/'\n",
    "htmlepath_other='//covid-html.csaladen.es/'"
   ]
  },
  {
   "cell_type": "code",
   "execution_count": 15,
   "metadata": {},
   "outputs": [],
   "source": [
    "titles={'HU':\"Magyar\",'RO':'Română','EN':'English'}"
   ]
  },
  {
   "cell_type": "code",
   "execution_count": 16,
   "metadata": {},
   "outputs": [],
   "source": [
    "rtitles={titles[t]:t for t in titles}"
   ]
  },
  {
   "cell_type": "code",
   "execution_count": 17,
   "metadata": {},
   "outputs": [],
   "source": [
    "import requests\n",
    "grafana = \"http://grafana:3000/\"\n",
    "headers = {\n",
    "    'Authorization': 'Bearer '+open('auth/grafana.txt','r').read(),\n",
    "    'Accept': 'application/json',\n",
    "    'Content-Type': 'application/json'\n",
    "}"
   ]
  },
  {
   "cell_type": "code",
   "execution_count": 18,
   "metadata": {},
   "outputs": [],
   "source": [
    "response = requests.get(grafana+'api/folders', headers=headers)\n",
    "folders=json.loads(response.content)"
   ]
  },
  {
   "cell_type": "code",
   "execution_count": 19,
   "metadata": {},
   "outputs": [],
   "source": [
    "folder_id=[f['id'] for f in folders if f['title']=='COVID-19 Romania'][0]\n",
    "# folder_id=[f['id'] for f in folders if f['title']=='COVID-19 Romania Old'][0]\n",
    "# folder_id=[f['id'] for f in folders if f['title']=='Testing area'][0]"
   ]
  },
  {
   "cell_type": "code",
   "execution_count": 20,
   "metadata": {},
   "outputs": [],
   "source": [
    "response = requests.get(grafana+'api/search?folderIds='+str(folder_id), headers=headers)\n",
    "dashs=json.loads(response.content)"
   ]
  },
  {
   "cell_type": "code",
   "execution_count": 21,
   "metadata": {},
   "outputs": [],
   "source": [
    "uids={rtitles[d['title']]:d['uid'] for d in dashs if d['title'] in rtitles}\n",
    "iids={rtitles[d['title']]:d['id'] for d in dashs if d['title'] in rtitles}"
   ]
  },
  {
   "cell_type": "code",
   "execution_count": 22,
   "metadata": {},
   "outputs": [],
   "source": [
    "uids_light={rtitles[d['title'].split(' Light')[0]]:d['uid'] for d in dashs if 'Light' in d['title']}\n",
    "iids_light={rtitles[d['title'].split(' Light')[0]]:d['id'] for d in dashs if 'Light' in d['title']}"
   ]
  },
  {
   "cell_type": "code",
   "execution_count": 23,
   "metadata": {},
   "outputs": [],
   "source": [
    "# response = requests.get(grafana+'api/dashboards/uid/hu-test', headers=headers)\n",
    "# model=json.loads(response.content)['dashboard']\n",
    "# open('hu-test.json','w').write(json.dumps(model))"
   ]
  },
  {
   "cell_type": "code",
   "execution_count": 24,
   "metadata": {},
   "outputs": [],
   "source": [
    "languages=['HU','RO','EN']"
   ]
  },
  {
   "cell_type": "code",
   "execution_count": 25,
   "metadata": {},
   "outputs": [],
   "source": [
    "url='https://docs.google.com/spreadsheets/d/'+open('auth/sheet.txt','r').read()+'/gviz/tq?tqx=out:csv&sheet='"
   ]
  },
  {
   "cell_type": "code",
   "execution_count": 26,
   "metadata": {},
   "outputs": [],
   "source": [
    "def get_szotar():\n",
    "    sheet='szotar'\n",
    "    columns=languages+[i+'_description' for i in languages]+[i+'_source' for i in languages]\n",
    "    df=pd.read_csv(url+sheet)\n",
    "    df=df[['ID','UI']+columns]\n",
    "    sheet='minidashboard'\n",
    "    df2=pd.read_csv(url+sheet)\n",
    "    df2=df2[['ID','UI']+columns]\n",
    "    df=pd.concat([df,df2])\n",
    "    szotardf=df.set_index('ID')[columns]\n",
    "    szotar=df.set_index('ID').T.to_dict()\n",
    "    szotarHU=df.set_index('HU',drop=False).T.to_dict()\n",
    "    szotarRO=df.set_index('RO',drop=False).T.to_dict()\n",
    "    szotarEN=df.set_index('EN',drop=False).T.to_dict()\n",
    "    return szotardf,szotar,szotarHU,szotarRO,szotarEN"
   ]
  },
  {
   "cell_type": "code",
   "execution_count": 27,
   "metadata": {},
   "outputs": [],
   "source": [
    "def resolve_time_conflicts(series):\n",
    "    ds={}\n",
    "    ts=[]\n",
    "    for d in series:\n",
    "        if d not in ds:\n",
    "            ds[d]=pd.to_datetime(d)\n",
    "            t=(ds[d])\n",
    "        else:\n",
    "            ds[d]=ds[d]+pd.to_timedelta('193m')\n",
    "            t=(ds[d])\n",
    "        ts.append(t)\n",
    "    return ts"
   ]
  },
  {
   "cell_type": "markdown",
   "metadata": {},
   "source": [
    "# Influx"
   ]
  },
  {
   "cell_type": "code",
   "execution_count": 28,
   "metadata": {},
   "outputs": [
    {
     "name": "stderr",
     "output_type": "stream",
     "text": [
      "<ipython-input-26-77652dbc15c9>:12: UserWarning: DataFrame columns are not unique, some columns will be omitted.\n",
      "  szotarHU=df.set_index('HU',drop=False).T.to_dict()\n",
      "<ipython-input-26-77652dbc15c9>:13: UserWarning: DataFrame columns are not unique, some columns will be omitted.\n",
      "  szotarRO=df.set_index('RO',drop=False).T.to_dict()\n",
      "<ipython-input-26-77652dbc15c9>:14: UserWarning: DataFrame columns are not unique, some columns will be omitted.\n",
      "  szotarEN=df.set_index('EN',drop=False).T.to_dict()\n"
     ]
    }
   ],
   "source": [
    "szotardf,szotar,szotarHU,szotarRO,szotarEN=get_szotar()"
   ]
  },
  {
   "cell_type": "code",
   "execution_count": 29,
   "metadata": {},
   "outputs": [],
   "source": [
    "import time\n",
    "import datetime\n",
    "import pytz\n",
    "utc=pytz.UTC"
   ]
  },
  {
   "cell_type": "code",
   "execution_count": 34,
   "metadata": {},
   "outputs": [],
   "source": [
    "def push2influx(df,measurement,field_columns,tag_columns,shift=False,dbclient=client,wo=write_out,fo=full_overwrite,daily=True):\n",
    "    if wo:\n",
    "        df=df.sort_index()\n",
    "        # df.index = utc.localize(df.index) \n",
    "        df.index=df.index.tz_localize('GMT')#.tz_convert('Europe/Bucharest')\n",
    "        if shift:\n",
    "            df.index+=pd.to_timedelta('12h')\n",
    "        if fo: \n",
    "            print('Purging',measurement,'...')\n",
    "            dbclient.query('DROP MEASUREMENT '+measurement)\n",
    "        else:\n",
    "            latest=dbclient.query('SELECT * FROM '+measurement+' GROUP BY \"1d\" ORDER BY DESC LIMIT 1')\n",
    "            if latest:\n",
    "                lat=latest[list(latest.keys())[0]].index[0]\n",
    "                if daily: lat+=pd.to_timedelta('1d')\n",
    "                df=df[lat:]\n",
    "                print('Slicing',measurement,'from',lat,'...')\n",
    "            else:\n",
    "                print('No data in db for',measurement,'...')\n",
    "        time.sleep(3)\n",
    "        print('Writing to',measurement,'...')\n",
    "        bsize=5000\n",
    "        bwait=2\n",
    "        print(len(df),'data points will be written in',len(df)/bsize,'batches.')\n",
    "        print('Expected query running time is:',int((len(df)/bsize)*bwait*1.1)+3,'seconds.')\n",
    "        for i in range(int(len(df)/bsize)+1):\n",
    "            r=range(i*bsize,min(len(df),(i+1)*bsize))\n",
    "            dc=df.iloc[r]\n",
    "            print('Writing batch',i+1,'...')\n",
    "            dbclient.write_points(dc, measurement, protocol=protocol,\n",
    "                                field_columns=field_columns,\n",
    "                                tag_columns=[])\n",
    "            time.sleep(bwait)\n",
    "        time.sleep(3)\n",
    "        print('Done!')\n",
    "    else:\n",
    "        print('Write-out not enabled. Skipping...')"
   ]
  },
  {
   "cell_type": "markdown",
   "metadata": {},
   "source": [
    "DateLaZi"
   ]
  },
  {
   "cell_type": "code",
   "execution_count": 35,
   "metadata": {},
   "outputs": [
    {
     "ename": "JSONDecodeError",
     "evalue": "Expecting value: line 1 column 1 (char 0)",
     "output_type": "error",
     "traceback": [
      "\u001b[0;31m---------------------------------------------------------------------------\u001b[0m",
      "\u001b[0;31mJSONDecodeError\u001b[0m                           Traceback (most recent call last)",
      "\u001b[0;32m<ipython-input-35-c404dda1e6b1>\u001b[0m in \u001b[0;36m<module>\u001b[0;34m\u001b[0m\n\u001b[1;32m      3\u001b[0m \u001b[0;31m# dlz=requests.get('https://di5ds1eotmbx1.cloudfront.net/latestData.json').content\u001b[0m\u001b[0;34m\u001b[0m\u001b[0;34m\u001b[0m\u001b[0;34m\u001b[0m\u001b[0m\n\u001b[1;32m      4\u001b[0m \u001b[0;31m# dlz=requests.get('https://d35p9e4fm9h3wo.cloudfront.net/latestData.json').content\u001b[0m\u001b[0;34m\u001b[0m\u001b[0;34m\u001b[0m\u001b[0;34m\u001b[0m\u001b[0m\n\u001b[0;32m----> 5\u001b[0;31m \u001b[0mdlz\u001b[0m\u001b[0;34m=\u001b[0m\u001b[0mjson\u001b[0m\u001b[0;34m.\u001b[0m\u001b[0mloads\u001b[0m\u001b[0;34m(\u001b[0m\u001b[0mdlz\u001b[0m\u001b[0;34m)\u001b[0m\u001b[0;34m\u001b[0m\u001b[0;34m\u001b[0m\u001b[0m\n\u001b[0m\u001b[1;32m      6\u001b[0m \u001b[0mdlz\u001b[0m\u001b[0;34m[\u001b[0m\u001b[0;34m'historicalData'\u001b[0m\u001b[0;34m]\u001b[0m\u001b[0;34m[\u001b[0m\u001b[0mdlz\u001b[0m\u001b[0;34m[\u001b[0m\u001b[0;34m'currentDayStats'\u001b[0m\u001b[0;34m]\u001b[0m\u001b[0;34m[\u001b[0m\u001b[0;34m'parsedOnString'\u001b[0m\u001b[0;34m]\u001b[0m\u001b[0;34m]\u001b[0m\u001b[0;34m=\u001b[0m\u001b[0mdlz\u001b[0m\u001b[0;34m[\u001b[0m\u001b[0;34m'currentDayStats'\u001b[0m\u001b[0;34m]\u001b[0m\u001b[0;34m\u001b[0m\u001b[0;34m\u001b[0m\u001b[0m\n\u001b[1;32m      7\u001b[0m \u001b[0mdlzs\u001b[0m\u001b[0;34m=\u001b[0m\u001b[0;34m[\u001b[0m\u001b[0;34m]\u001b[0m\u001b[0;34m\u001b[0m\u001b[0;34m\u001b[0m\u001b[0m\n",
      "\u001b[0;32m/opt/conda/lib/python3.8/json/__init__.py\u001b[0m in \u001b[0;36mloads\u001b[0;34m(s, cls, object_hook, parse_float, parse_int, parse_constant, object_pairs_hook, **kw)\u001b[0m\n\u001b[1;32m    355\u001b[0m             \u001b[0mparse_int\u001b[0m \u001b[0;32mis\u001b[0m \u001b[0;32mNone\u001b[0m \u001b[0;32mand\u001b[0m \u001b[0mparse_float\u001b[0m \u001b[0;32mis\u001b[0m \u001b[0;32mNone\u001b[0m \u001b[0;32mand\u001b[0m\u001b[0;34m\u001b[0m\u001b[0;34m\u001b[0m\u001b[0m\n\u001b[1;32m    356\u001b[0m             parse_constant is None and object_pairs_hook is None and not kw):\n\u001b[0;32m--> 357\u001b[0;31m         \u001b[0;32mreturn\u001b[0m \u001b[0m_default_decoder\u001b[0m\u001b[0;34m.\u001b[0m\u001b[0mdecode\u001b[0m\u001b[0;34m(\u001b[0m\u001b[0ms\u001b[0m\u001b[0;34m)\u001b[0m\u001b[0;34m\u001b[0m\u001b[0;34m\u001b[0m\u001b[0m\n\u001b[0m\u001b[1;32m    358\u001b[0m     \u001b[0;32mif\u001b[0m \u001b[0mcls\u001b[0m \u001b[0;32mis\u001b[0m \u001b[0;32mNone\u001b[0m\u001b[0;34m:\u001b[0m\u001b[0;34m\u001b[0m\u001b[0;34m\u001b[0m\u001b[0m\n\u001b[1;32m    359\u001b[0m         \u001b[0mcls\u001b[0m \u001b[0;34m=\u001b[0m \u001b[0mJSONDecoder\u001b[0m\u001b[0;34m\u001b[0m\u001b[0;34m\u001b[0m\u001b[0m\n",
      "\u001b[0;32m/opt/conda/lib/python3.8/json/decoder.py\u001b[0m in \u001b[0;36mdecode\u001b[0;34m(self, s, _w)\u001b[0m\n\u001b[1;32m    335\u001b[0m \u001b[0;34m\u001b[0m\u001b[0m\n\u001b[1;32m    336\u001b[0m         \"\"\"\n\u001b[0;32m--> 337\u001b[0;31m         \u001b[0mobj\u001b[0m\u001b[0;34m,\u001b[0m \u001b[0mend\u001b[0m \u001b[0;34m=\u001b[0m \u001b[0mself\u001b[0m\u001b[0;34m.\u001b[0m\u001b[0mraw_decode\u001b[0m\u001b[0;34m(\u001b[0m\u001b[0ms\u001b[0m\u001b[0;34m,\u001b[0m \u001b[0midx\u001b[0m\u001b[0;34m=\u001b[0m\u001b[0m_w\u001b[0m\u001b[0;34m(\u001b[0m\u001b[0ms\u001b[0m\u001b[0;34m,\u001b[0m \u001b[0;36m0\u001b[0m\u001b[0;34m)\u001b[0m\u001b[0;34m.\u001b[0m\u001b[0mend\u001b[0m\u001b[0;34m(\u001b[0m\u001b[0;34m)\u001b[0m\u001b[0;34m)\u001b[0m\u001b[0;34m\u001b[0m\u001b[0;34m\u001b[0m\u001b[0m\n\u001b[0m\u001b[1;32m    338\u001b[0m         \u001b[0mend\u001b[0m \u001b[0;34m=\u001b[0m \u001b[0m_w\u001b[0m\u001b[0;34m(\u001b[0m\u001b[0ms\u001b[0m\u001b[0;34m,\u001b[0m \u001b[0mend\u001b[0m\u001b[0;34m)\u001b[0m\u001b[0;34m.\u001b[0m\u001b[0mend\u001b[0m\u001b[0;34m(\u001b[0m\u001b[0;34m)\u001b[0m\u001b[0;34m\u001b[0m\u001b[0;34m\u001b[0m\u001b[0m\n\u001b[1;32m    339\u001b[0m         \u001b[0;32mif\u001b[0m \u001b[0mend\u001b[0m \u001b[0;34m!=\u001b[0m \u001b[0mlen\u001b[0m\u001b[0;34m(\u001b[0m\u001b[0ms\u001b[0m\u001b[0;34m)\u001b[0m\u001b[0;34m:\u001b[0m\u001b[0;34m\u001b[0m\u001b[0;34m\u001b[0m\u001b[0m\n",
      "\u001b[0;32m/opt/conda/lib/python3.8/json/decoder.py\u001b[0m in \u001b[0;36mraw_decode\u001b[0;34m(self, s, idx)\u001b[0m\n\u001b[1;32m    353\u001b[0m             \u001b[0mobj\u001b[0m\u001b[0;34m,\u001b[0m \u001b[0mend\u001b[0m \u001b[0;34m=\u001b[0m \u001b[0mself\u001b[0m\u001b[0;34m.\u001b[0m\u001b[0mscan_once\u001b[0m\u001b[0;34m(\u001b[0m\u001b[0ms\u001b[0m\u001b[0;34m,\u001b[0m \u001b[0midx\u001b[0m\u001b[0;34m)\u001b[0m\u001b[0;34m\u001b[0m\u001b[0;34m\u001b[0m\u001b[0m\n\u001b[1;32m    354\u001b[0m         \u001b[0;32mexcept\u001b[0m \u001b[0mStopIteration\u001b[0m \u001b[0;32mas\u001b[0m \u001b[0merr\u001b[0m\u001b[0;34m:\u001b[0m\u001b[0;34m\u001b[0m\u001b[0;34m\u001b[0m\u001b[0m\n\u001b[0;32m--> 355\u001b[0;31m             \u001b[0;32mraise\u001b[0m \u001b[0mJSONDecodeError\u001b[0m\u001b[0;34m(\u001b[0m\u001b[0;34m\"Expecting value\"\u001b[0m\u001b[0;34m,\u001b[0m \u001b[0ms\u001b[0m\u001b[0;34m,\u001b[0m \u001b[0merr\u001b[0m\u001b[0;34m.\u001b[0m\u001b[0mvalue\u001b[0m\u001b[0;34m)\u001b[0m \u001b[0;32mfrom\u001b[0m \u001b[0;32mNone\u001b[0m\u001b[0;34m\u001b[0m\u001b[0;34m\u001b[0m\u001b[0m\n\u001b[0m\u001b[1;32m    356\u001b[0m         \u001b[0;32mreturn\u001b[0m \u001b[0mobj\u001b[0m\u001b[0;34m,\u001b[0m \u001b[0mend\u001b[0m\u001b[0;34m\u001b[0m\u001b[0;34m\u001b[0m\u001b[0m\n",
      "\u001b[0;31mJSONDecodeError\u001b[0m: Expecting value: line 1 column 1 (char 0)"
     ]
    }
   ],
   "source": [
    "#new method from DateLaZi\n",
    "dlz=requests.get('https://datelazi.ro/latestData.json').content\n",
    "# dlz=requests.get('https://di5ds1eotmbx1.cloudfront.net/latestData.json').content\n",
    "# dlz=requests.get('https://d35p9e4fm9h3wo.cloudfront.net/latestData.json').content\n",
    "dlz=json.loads(dlz)\n",
    "dlz['historicalData'][dlz['currentDayStats']['parsedOnString']]=dlz['currentDayStats']\n",
    "dlzs=[]\n",
    "dlz_counties=[]\n",
    "for date in dlz['historicalData']:\n",
    "    d={}\n",
    "    mdate=date.replace('2018-11-07','2020-11-07').replace('2020-01-05','2021-01-05').replace('2020-01-07','2021-01-07')\n",
    "    d['date']=mdate\n",
    "    d['cases']=dlz['historicalData'][date]['numberInfected']\n",
    "    d['heals']=dlz['historicalData'][date]['numberCured']\n",
    "    d['deaths']=dlz['historicalData'][date]['numberDeceased']\n",
    "    if 'vaccines' in dlz['historicalData'][date]:\n",
    "        if dlz['historicalData'][date]['vaccines']:\n",
    "            for v in dlz['historicalData'][date]['vaccines']:\n",
    "                for k in ['total_administered','immunized']:\n",
    "                    k2=k.replace('immunized','total_immunized')\n",
    "                    if k2 not in d: d[k2]=0\n",
    "                    d[k2]+=dlz['historicalData'][date]['vaccines'][v][k]\n",
    "                    d[k2+'_'+v]=dlz['historicalData'][date]['vaccines'][v][k]\n",
    "    if 'countyInfectionsNumbers' in dlz['historicalData'][date]:\n",
    "        counties=dlz['historicalData'][date]['countyInfectionsNumbers']\n",
    "        if counties:\n",
    "            for county in counties:\n",
    "                dummy={'date':mdate,county:dlz['historicalData'][date]['countyInfectionsNumbers'][county]}\n",
    "                if county=='PH':\n",
    "                    if date=='2020-12-01':\n",
    "                        dummy[county]=19395\n",
    "                dlz_counties.append(dummy)\n",
    "    dlzs.append(d)\n",
    "dl=pd.DataFrame(dlzs).set_index('date').sort_index(ascending=True)"
   ]
  },
  {
   "cell_type": "code",
   "execution_count": null,
   "metadata": {},
   "outputs": [],
   "source": [
    "#Manual fixes\n",
    "dl.loc['2021-04-08','cases']=993613\n",
    "dl.loc['2021-04-08','heals']=890528\n",
    "dl.loc['2021-04-08','deaths']=24733"
   ]
  },
  {
   "cell_type": "code",
   "execution_count": null,
   "metadata": {},
   "outputs": [],
   "source": [
    "for c in dl.columns[3:]:\n",
    "    dl[c]=dl[c].cumsum()\n",
    "dl2=dl.diff()\n",
    "dl2.columns=['case','heal','death']+[i.replace('total_','') for i in dl2.columns[3:]]\n",
    "dl['active']=dl['cases']-dl['heals']-dl['deaths']\n",
    "dl=dl.join(dl2)"
   ]
  },
  {
   "cell_type": "code",
   "execution_count": null,
   "metadata": {},
   "outputs": [],
   "source": [
    "latest=dl.index[-1]\n",
    "now=str(pd.to_datetime(\"now\"))[:10]\n",
    "print(latest,now)"
   ]
  },
  {
   "cell_type": "markdown",
   "metadata": {},
   "source": [
    "Tests from `graphs.ro`"
   ]
  },
  {
   "cell_type": "code",
   "execution_count": null,
   "metadata": {},
   "outputs": [],
   "source": [
    "r=requests.get('https://www.graphs.ro/json.php')\n",
    "graphs_ro=json.loads(r.content)['covid_romania']\n",
    "g=pd.DataFrame(graphs_ro)\n",
    "# g['date']=pd.to_datetime(g['reporting_date'])\n",
    "g['date']=g['reporting_date']\n",
    "g=g.set_index('date')\n",
    "g['tests']=g['total_tests']\n",
    "g['test']=g['new_tests_today']\n",
    "latest2=g.index[0]\n",
    "print(latest2)"
   ]
  },
  {
   "cell_type": "code",
   "execution_count": null,
   "metadata": {},
   "outputs": [],
   "source": [
    "latest=str(min(pd.to_datetime(latest),pd.to_datetime(latest2)))[:10]\n",
    "print(latest)"
   ]
  },
  {
   "cell_type": "code",
   "execution_count": null,
   "metadata": {},
   "outputs": [],
   "source": [
    "dl=dl.join(g[['tests','test']])"
   ]
  },
  {
   "cell_type": "markdown",
   "metadata": {},
   "source": [
    "Governance"
   ]
  },
  {
   "cell_type": "code",
   "execution_count": 32,
   "metadata": {},
   "outputs": [],
   "source": [
    "sheet='governance'"
   ]
  },
  {
   "cell_type": "code",
   "execution_count": 33,
   "metadata": {},
   "outputs": [
    {
     "ename": "NameError",
     "evalue": "name 'dl' is not defined",
     "output_type": "error",
     "traceback": [
      "\u001b[0;31m---------------------------------------------------------------------------\u001b[0m",
      "\u001b[0;31mNameError\u001b[0m                                 Traceback (most recent call last)",
      "\u001b[0;32m<ipython-input-33-25277afc37ca>\u001b[0m in \u001b[0;36m<module>\u001b[0;34m\u001b[0m\n\u001b[1;32m      2\u001b[0m \u001b[0;31m# dl=pd.concat([df.set_index('date').sort_index()[:'2020-03-17'][dl.columns[:-1]],\u001b[0m\u001b[0;34m\u001b[0m\u001b[0;34m\u001b[0m\u001b[0;34m\u001b[0m\u001b[0m\n\u001b[1;32m      3\u001b[0m \u001b[0;31m#           dl['2020-03-18':]])\u001b[0m\u001b[0;34m\u001b[0m\u001b[0;34m\u001b[0m\u001b[0;34m\u001b[0m\u001b[0m\n\u001b[0;32m----> 4\u001b[0;31m \u001b[0mdf\u001b[0m\u001b[0;34m=\u001b[0m\u001b[0mdf\u001b[0m\u001b[0;34m.\u001b[0m\u001b[0mset_index\u001b[0m\u001b[0;34m(\u001b[0m\u001b[0;34m'date'\u001b[0m\u001b[0;34m)\u001b[0m\u001b[0;34m.\u001b[0m\u001b[0msort_index\u001b[0m\u001b[0;34m(\u001b[0m\u001b[0mascending\u001b[0m\u001b[0;34m=\u001b[0m\u001b[0;34m'True'\u001b[0m\u001b[0;34m)\u001b[0m\u001b[0;34m.\u001b[0m\u001b[0mjoin\u001b[0m\u001b[0;34m(\u001b[0m\u001b[0mdl\u001b[0m\u001b[0;34m,\u001b[0m\u001b[0mlsuffix\u001b[0m\u001b[0;34m=\u001b[0m\u001b[0;34m'_g'\u001b[0m\u001b[0;34m)\u001b[0m\u001b[0;31m#[20:] #[:-1] vaccines nincs a governance-ban\u001b[0m\u001b[0;34m\u001b[0m\u001b[0;34m\u001b[0m\u001b[0m\n\u001b[0m",
      "\u001b[0;31mNameError\u001b[0m: name 'dl' is not defined"
     ]
    }
   ],
   "source": [
    "df=pd.read_csv(url+sheet)\n",
    "# dl=pd.concat([df.set_index('date').sort_index()[:'2020-03-17'][dl.columns[:-1]],\n",
    "#           dl['2020-03-18':]])\n",
    "df=df.set_index('date').sort_index(ascending='True').join(dl,lsuffix='_g')#[20:] #[:-1] vaccines nincs a governance-ban"
   ]
  },
  {
   "cell_type": "code",
   "execution_count": null,
   "metadata": {},
   "outputs": [],
   "source": [
    "# fill from local, if missing in DateLaZi\n",
    "for c in ['active','cases','heals','deaths','case','heal','death']:\n",
    "    df[c]=df[c].fillna(df[c+'_g'].astype(str).str.replace(',','')).replace('nan',np.nan)\n",
    "df=df.dropna(how='all',axis=0).dropna(how='all',axis=1)"
   ]
  },
  {
   "cell_type": "code",
   "execution_count": null,
   "metadata": {},
   "outputs": [],
   "source": [
    "df14=df[['cases']].reset_index().join(df[['cases']][14:].reset_index(),lsuffix='1')\n",
    "df14['case14']=df14['cases'].astype(float)-df14['cases1'].astype(float)\n",
    "df=df.join(df14.set_index('date')['case14'].dropna().astype(int))"
   ]
  },
  {
   "cell_type": "code",
   "execution_count": null,
   "metadata": {},
   "outputs": [],
   "source": [
    "df.index=pd.to_datetime(df.index)\n",
    "df0=df.copy()\n",
    "#df['date']=pd.to_datetime(df['date'])\n",
    "#df=df[df.columns[:13]].set_index('date')\n",
    "vaccine_totals=[i for i in list(dl2.columns[3:])+list(dl.columns[3:len(dl2.columns)]) if 'total_' in i]\n",
    "df=pd.DataFrame(df[['active','cases','heals','deaths','case14']+\\\n",
    "                  vaccine_totals].stack()).reset_index().set_index('date')\n",
    "df.columns=['type','value']\n",
    "df['value']=df['value'].astype(str).str.replace(',','').astype(float).astype(int)\n",
    "df=df.join(szotardf,on='type')\n",
    "df=pd.DataFrame(df.reset_index().set_index(['date','type','value']).stack()).reset_index().set_index('date')\n",
    "df.columns=['type','value','lang','langtype']\n",
    "current=df[df['type']=='case14']['value'][-1] #sajat becsles\n",
    "# current=df[df['type']=='active']['value'][-1] #official\n",
    "current"
   ]
  },
  {
   "cell_type": "code",
   "execution_count": null,
   "metadata": {},
   "outputs": [],
   "source": [
    "df0.to_csv('df0.csv')"
   ]
  },
  {
   "cell_type": "code",
   "execution_count": 172,
   "metadata": {},
   "outputs": [
    {
     "data": {
      "text/html": [
       "<div>\n",
       "<style scoped>\n",
       "    .dataframe tbody tr th:only-of-type {\n",
       "        vertical-align: middle;\n",
       "    }\n",
       "\n",
       "    .dataframe tbody tr th {\n",
       "        vertical-align: top;\n",
       "    }\n",
       "\n",
       "    .dataframe thead th {\n",
       "        text-align: right;\n",
       "    }\n",
       "</style>\n",
       "<table border=\"1\" class=\"dataframe\">\n",
       "  <thead>\n",
       "    <tr style=\"text-align: right;\">\n",
       "      <th></th>\n",
       "      <th>active</th>\n",
       "      <th>case14</th>\n",
       "      <th>case</th>\n",
       "      <th>heal</th>\n",
       "      <th>death</th>\n",
       "      <th>cases</th>\n",
       "      <th>heals</th>\n",
       "      <th>deaths</th>\n",
       "    </tr>\n",
       "    <tr>\n",
       "      <th>date</th>\n",
       "      <th></th>\n",
       "      <th></th>\n",
       "      <th></th>\n",
       "      <th></th>\n",
       "      <th></th>\n",
       "      <th></th>\n",
       "      <th></th>\n",
       "      <th></th>\n",
       "    </tr>\n",
       "  </thead>\n",
       "  <tbody>\n",
       "    <tr>\n",
       "      <th>2021-04-08</th>\n",
       "      <td>78352.0</td>\n",
       "      <td>73819.0</td>\n",
       "      <td>4989.0</td>\n",
       "      <td>4818.0</td>\n",
       "      <td>172.0</td>\n",
       "      <td>993613.0</td>\n",
       "      <td>890528.0</td>\n",
       "      <td>24733.0</td>\n",
       "    </tr>\n",
       "    <tr>\n",
       "      <th>2021-04-09</th>\n",
       "      <td>77115.0</td>\n",
       "      <td>72245.0</td>\n",
       "      <td>4942.0</td>\n",
       "      <td>6045.0</td>\n",
       "      <td>134.0</td>\n",
       "      <td>998555.0</td>\n",
       "      <td>896573.0</td>\n",
       "      <td>24867.0</td>\n",
       "    </tr>\n",
       "    <tr>\n",
       "      <th>2021-04-10</th>\n",
       "      <td>75620.0</td>\n",
       "      <td>70686.0</td>\n",
       "      <td>4310.0</td>\n",
       "      <td>5666.0</td>\n",
       "      <td>139.0</td>\n",
       "      <td>1002865.0</td>\n",
       "      <td>902239.0</td>\n",
       "      <td>25006.0</td>\n",
       "    </tr>\n",
       "    <tr>\n",
       "      <th>2021-04-11</th>\n",
       "      <td>74373.0</td>\n",
       "      <td>69549.0</td>\n",
       "      <td>3302.0</td>\n",
       "      <td>4420.0</td>\n",
       "      <td>129.0</td>\n",
       "      <td>1006167.0</td>\n",
       "      <td>906659.0</td>\n",
       "      <td>25135.0</td>\n",
       "    </tr>\n",
       "    <tr>\n",
       "      <th>2021-04-12</th>\n",
       "      <td>72944.0</td>\n",
       "      <td>68047.0</td>\n",
       "      <td>2323.0</td>\n",
       "      <td>3639.0</td>\n",
       "      <td>113.0</td>\n",
       "      <td>1008490.0</td>\n",
       "      <td>910298.0</td>\n",
       "      <td>25248.0</td>\n",
       "    </tr>\n",
       "  </tbody>\n",
       "</table>\n",
       "</div>"
      ],
      "text/plain": [
       "             active   case14    case    heal  death      cases     heals  \\\n",
       "date                                                                       \n",
       "2021-04-08  78352.0  73819.0  4989.0  4818.0  172.0   993613.0  890528.0   \n",
       "2021-04-09  77115.0  72245.0  4942.0  6045.0  134.0   998555.0  896573.0   \n",
       "2021-04-10  75620.0  70686.0  4310.0  5666.0  139.0  1002865.0  902239.0   \n",
       "2021-04-11  74373.0  69549.0  3302.0  4420.0  129.0  1006167.0  906659.0   \n",
       "2021-04-12  72944.0  68047.0  2323.0  3639.0  113.0  1008490.0  910298.0   \n",
       "\n",
       "             deaths  \n",
       "date                 \n",
       "2021-04-08  24733.0  \n",
       "2021-04-09  24867.0  \n",
       "2021-04-10  25006.0  \n",
       "2021-04-11  25135.0  \n",
       "2021-04-12  25248.0  "
      ]
     },
     "execution_count": 172,
     "metadata": {},
     "output_type": "execute_result"
    }
   ],
   "source": [
    "#sanity check\n",
    "cols=[ 'active','case14', 'case', 'heal', 'death','cases', 'heals', 'deaths']\n",
    "dx=df0[cols].dropna(how='all')\n",
    "dx=dx.loc[~dx.index.isnull()]\n",
    "dx[cols].tail()"
   ]
  },
  {
   "cell_type": "markdown",
   "metadata": {},
   "source": [
    "-> Run till here to test Grafana only."
   ]
  },
  {
   "cell_type": "markdown",
   "metadata": {},
   "source": [
    "# Grafana"
   ]
  },
  {
   "cell_type": "code",
   "execution_count": 173,
   "metadata": {},
   "outputs": [
    {
     "data": {
      "text/plain": [
       "('412', 68047, '12', '01:03')"
      ]
     },
     "execution_count": 173,
     "metadata": {},
     "output_type": "execute_result"
    }
   ],
   "source": [
    "today0=now[-2:]\n",
    "if today0[0]=='0': \n",
    "    today=today0[1]\n",
    "else:\n",
    "    today=today0\n",
    "currents=str(current)[:-3]+'&nbsp;'+str(current)[-3:]\n",
    "hour=str(pd.to_datetime('now')+pd.to_timedelta('3h'))[11:16]\n",
    "str(szotar['report']['UI'][1:]),current,today0,hour"
   ]
  },
  {
   "cell_type": "code",
   "execution_count": 174,
   "metadata": {},
   "outputs": [],
   "source": [
    "def darken2(color):\n",
    "    return '#'+str(hex(int(\"0x\"+color[1:], 16) & 0xfefefe >> 1))[2:]\n",
    "def brighten2(color):\n",
    "    return '#'+str(hex(int(\"0x\"+color[1:], 16) & 0x7f7f7f << 1))[2:]\n",
    "def adjust_lightness(color, amount=0.5):\n",
    "    import matplotlib.colors as mc\n",
    "    import colorsys\n",
    "    try:\n",
    "        c = mc.cnames[color]\n",
    "    except:\n",
    "        c = color\n",
    "    c = colorsys.rgb_to_hls(*mc.to_rgb(c))\n",
    "    return mc.rgb2hex(colorsys.hls_to_rgb(c[0], max(0, min(1, amount * c[1])), c[2]))"
   ]
  },
  {
   "cell_type": "code",
   "execution_count": 175,
   "metadata": {},
   "outputs": [],
   "source": [
    "# szotardf,szotar,szotarHU,szotarRO,szotarEN=get_szotar()"
   ]
  },
  {
   "cell_type": "code",
   "execution_count": 176,
   "metadata": {},
   "outputs": [],
   "source": [
    "colors_to_darken=['#F2CC0C','#CA95E5','#FF780A','#E0B400','#96D98D','#F2495C','#E02F44',\n",
    "                  'lime','#73BF69','#8AB8FF','#3274D9','#D3D3D3','#FF7383','#FADE2A']"
   ]
  },
  {
   "cell_type": "markdown",
   "metadata": {},
   "source": [
    "# Maps"
   ]
  },
  {
   "cell_type": "code",
   "execution_count": 177,
   "metadata": {},
   "outputs": [],
   "source": [
    "top=3"
   ]
  },
  {
   "cell_type": "code",
   "execution_count": 178,
   "metadata": {},
   "outputs": [],
   "source": [
    "# iso_counties=pd.read_html('https://en.wikipedia.org/wiki/Counties_of_Romania')[1]\\\n",
    "#     .set_index(['ISO code[note 3]'])['County'].to_dict()\n",
    "# iso_counties['BN']='Bistrița-Năsăud'\n",
    "# iso_counties['CL']='Călărași'\n",
    "# open(htmlipath+'panels/iso_counties.json','w').write(json.dumps(iso_counties))\n",
    "iso_counties=json.loads(open(htmlipath+'panels/iso_counties.json','r').read())"
   ]
  },
  {
   "cell_type": "code",
   "execution_count": 179,
   "metadata": {},
   "outputs": [],
   "source": [
    "georo=json.loads(open(htmlipath+'panels/romania-counties.json','r').read())\n",
    "georoco={i['properties']['NAME_1']:i['properties']['ID_1'] for i in georo['objects']['ROU_adm1']['geometries']}   \n",
    "georoco['București']=georoco['Bucharest']"
   ]
  },
  {
   "cell_type": "markdown",
   "metadata": {},
   "source": [
    "Locality map"
   ]
  },
  {
   "cell_type": "code",
   "execution_count": 180,
   "metadata": {},
   "outputs": [],
   "source": [
    "# datagov1a=pd.read_excel('https://data.gov.ro/dataset/b86a78a3-7f88-4b53-a94f-015082592466/resource/bc19c354-644d-4a24-a26f-512129dbc70d/download/transparenta_vaccinare_martie_2021.xlsx')\n",
    "datagov2a=pd.read_excel('https://data.gov.ro/dataset/b86a78a3-7f88-4b53-a94f-015082592466/resource/d0b60b45-fb08-4980-a34c-8cbb4a43cad3/download/transparenta_martie_2021.xlsx',skiprows=1)\n",
    "# datagov1b=pd.read_excel('https://data.gov.ro/dataset/b86a78a3-7f88-4b53-a94f-015082592466/resource/a0eb9ff2-9b97-430c-b285-360cadb55307/download/vaccinare-covid19-grupe-risc-01-01.04.2021.xlsx')\n",
    "datagov2b=pd.read_excel('https://data.gov.ro/dataset/b86a78a3-7f88-4b53-a94f-015082592466/resource/d3280256-07cc-4f93-957a-9815085899be/download/transparenta_aprilie_2021.xlsx',skiprows=1)"
   ]
  },
  {
   "cell_type": "code",
   "execution_count": 181,
   "metadata": {},
   "outputs": [],
   "source": [
    "# datagov1=pd.concat([datagov1a,datagov1b])\n",
    "datagov2=datagov2a.set_index(['Judet','UAT']).join(datagov2b.set_index(['Judet','UAT'])).reset_index()"
   ]
  },
  {
   "cell_type": "code",
   "execution_count": 182,
   "metadata": {},
   "outputs": [],
   "source": [
    "# del datagov1a\n",
    "# del datagov1b\n",
    "del datagov2a\n",
    "del datagov2b"
   ]
  },
  {
   "cell_type": "code",
   "execution_count": 183,
   "metadata": {},
   "outputs": [],
   "source": [
    "uat=json.loads(open(htmlipath+'panels/uat_simplificat.geojson','r').read())"
   ]
  },
  {
   "cell_type": "code",
   "execution_count": 184,
   "metadata": {},
   "outputs": [],
   "source": [
    "locs=[]\n",
    "for f in uat['features']:\n",
    "    locs.append(f['properties'])\n",
    "locs=pd.DataFrame(locs)[['judet','uat','siruta']]"
   ]
  },
  {
   "cell_type": "code",
   "execution_count": 185,
   "metadata": {},
   "outputs": [],
   "source": [
    "def judetconverter(c):\n",
    "    return (' '.join([i.capitalize() for i in c.split(' ')])).replace('ţ','ț').replace('ş','ș').replace('năsăud','Năsăud').\\\n",
    "        replace('severin','Severin').replace('mare','Mare').\\\n",
    "        replace('Municipiul București','Bucharest').replace('București','Bucharest')"
   ]
  },
  {
   "cell_type": "code",
   "execution_count": 186,
   "metadata": {},
   "outputs": [],
   "source": [
    "geo_iso=pd.DataFrame(iso_counties,index=['index']).T.reset_index().set_index('index').join(\\\n",
    "    pd.DataFrame(georoco,index=['geo_id']).T.reset_index().set_index('index')).reset_index()\n",
    "geo_iso.columns=['en','iso2','geo_id']"
   ]
  },
  {
   "cell_type": "code",
   "execution_count": 187,
   "metadata": {},
   "outputs": [],
   "source": [
    "locs['judet_norm']=[judetconverter(i) for i in locs['judet']]\n",
    "datagov2['judet_norm']=[judetconverter(i) for i in datagov2['Judet']]"
   ]
  },
  {
   "cell_type": "code",
   "execution_count": 188,
   "metadata": {},
   "outputs": [],
   "source": [
    "def uatconverter(judet,c):\n",
    "    c=(' '.join(['-'.join([b.capitalize() for b in a.split('-')]) for a in c.split(' ')]))\\\n",
    "        .replace('ţ','ț').replace('ş','ș').replace('Ţ','Ț').replace('Ş','Ș')\\\n",
    "        .replace('î','â').replace(' De ',' de ')\\\n",
    "        .replace('Cuza Voda','Cuza Vodă')\n",
    "    \n",
    "    if (judet=='Dolj'):\n",
    "        c=c.replace('Segarcea','Șegarcea')\n",
    "    elif (judet=='Teleorman'):\n",
    "        c=c.replace('Turnu Magurele','Turnu Măgurele')\n",
    "    elif (judet=='Olt'):\n",
    "        c=c.replace('Ipotesti','Ipotești')\n",
    "    elif (judet=='Alba'):\n",
    "        c=c.replace('Râmetea','Rimetea')\n",
    "    elif (judet=='Constanța'):\n",
    "        c=c.replace('44066','')\n",
    "    elif (judet=='Ialomița'):\n",
    "        c=c.replace('Radulești','Rădulești')\n",
    "    elif (judet=='Argeș'):\n",
    "        c=c.replace('Ciofringeni','Ciofrângeni')\\\n",
    "        .replace('Valea Mare Pravăț','Valea Mare-Pravăț')\n",
    "    elif (judet=='Vâlcea'):\n",
    "        c=c.replace('Păusești-Măglași','Păușești-Măglași')\n",
    "    elif (judet=='Prahova'):\n",
    "        c=c.replace('Cocorastii Colt','Cocorăștii Colț')\n",
    "    elif (judet=='Bucharest'):\n",
    "        c=c.replace('București Sectorul','Sector')\n",
    "    elif (judet=='Gorj'):\n",
    "        c=c.replace('Crușet','Crușeț')\n",
    "    elif (judet=='Brăila'):\n",
    "        c=c.replace('Racoviță','Racovița')\\\n",
    "        .replace('Gradiștea','Grădiștea')\\\n",
    "        .replace('Chișcani','Chiscani')\n",
    "    elif (judet=='Cluj'):\n",
    "        c=c.replace('Râșca','Rișca')\n",
    "    elif (judet=='Botoșani'):\n",
    "        c=c.replace('Răușeni','Răuseni')\n",
    "    elif (judet=='Maramureș'):\n",
    "        c=c.replace('Șisești','Șișești')\n",
    "    elif (judet=='Brașov'):\n",
    "        c=c.replace('Sambata de Sus','Sâmbăta de Sus')\n",
    "    elif (judet=='Vaslui'):\n",
    "        c=c.replace('Tătărăni','Tătărani')\n",
    "    elif (judet=='Iași'):\n",
    "        c=c.replace('Țigănăși','Țigănași')\n",
    "    elif (judet=='Bistrița-Năsăud'):\n",
    "        c=c.replace('Ilva Mica','Ilva Mică')\n",
    "    elif (judet=='Bihor'):\n",
    "        c=c.replace('Sănnicolau Romăn','Sânnicolau Român')\n",
    "    elif (judet=='Mureș'):\n",
    "        c=c.replace('Sarmașu','Sărmașu')\n",
    "    return c"
   ]
  },
  {
   "cell_type": "code",
   "execution_count": 189,
   "metadata": {},
   "outputs": [],
   "source": [
    "datagov2['uat_norm']=[(' '.join(['-'.join([b.capitalize() for b in a.split('-')]) for a in u.split(' ')]))\\\n",
    "                      .replace('ţ','ț').replace('ş','ș').replace('Ţ','Ț').replace('Ş','Ș')\\\n",
    "                      .replace(' De ',' de ').replace('Municipiul ','').replace('Oraș ','')\\\n",
    "                      for u in datagov2['UAT']]"
   ]
  },
  {
   "cell_type": "code",
   "execution_count": 190,
   "metadata": {},
   "outputs": [
    {
     "name": "stdout",
     "output_type": "stream",
     "text": [
      "Constanța 44066 \n",
      "  \n"
     ]
    }
   ],
   "source": [
    "uat_norms=[]\n",
    "for judet in locs['judet_norm'].unique():\n",
    "    for l in locs[locs['judet_norm']==judet]['uat'].unique():\n",
    "        u=uatconverter(judet,str(l))\n",
    "        if u not in datagov2[datagov2['judet_norm']==judet]['uat_norm'].unique():\n",
    "            u=u.replace(' ','-')\n",
    "            if u not in datagov2[datagov2['judet_norm']==judet]['uat_norm'].unique():\n",
    "                print(judet,l,u)\n",
    "                u=''\n",
    "        uat_norms.append({'judet_norm':judet,'uat_norm':u,'uat':l})"
   ]
  },
  {
   "cell_type": "code",
   "execution_count": 191,
   "metadata": {},
   "outputs": [],
   "source": [
    "locs2=locs.set_index(['judet_norm','uat']).join(pd.DataFrame(uat_norms).set_index(['judet_norm','uat'])).reset_index()"
   ]
  },
  {
   "cell_type": "code",
   "execution_count": 192,
   "metadata": {},
   "outputs": [],
   "source": [
    "datagov3=datagov2.set_index(['judet_norm','uat_norm']).join(locs2.set_index(['judet_norm','uat_norm']))\n",
    "datagov3=datagov3.set_index(['judet','uat','siruta'],append=True).drop(['UAT','Judet'],axis=1)\n",
    "datagov3.index=datagov3.index.reorder_levels([2,3,4,0,1])\n",
    "# datagov3_dates=[pd.to_datetime(c) for c in datagov3.columns]\n",
    "# datagov3_dates=[c for c in datagov3.columns]\n",
    "datagov3_dates=[str(pd.to_datetime(c)) for c in datagov3.columns]"
   ]
  },
  {
   "cell_type": "code",
   "execution_count": 193,
   "metadata": {},
   "outputs": [],
   "source": [
    "datagov3=datagov3.round(2)"
   ]
  },
  {
   "cell_type": "code",
   "execution_count": 194,
   "metadata": {},
   "outputs": [],
   "source": [
    "# del datagov1\n",
    "del datagov2"
   ]
  },
  {
   "cell_type": "code",
   "execution_count": 195,
   "metadata": {},
   "outputs": [],
   "source": [
    "def cat(r):\n",
    "    if r<1: return '< 1 ‰'\n",
    "    elif r<2: return '1-2 ‰'\n",
    "    elif r<4: return '2-4 ‰'\n",
    "    elif r<6: return '4-6 ‰'\n",
    "    elif r<8: return '6-8 ‰'\n",
    "    elif r<10: return '8-10 ‰'\n",
    "    elif r<20: return '> 10-20 ‰'\n",
    "    else: return '> 20 ‰'\n",
    "def cat2(r):\n",
    "    if r<1: return 0\n",
    "    elif r<2: return 1\n",
    "    elif r<4: return 2\n",
    "    elif r<6: return 3\n",
    "    elif r<8: return 4\n",
    "    elif r<10: return 5\n",
    "    elif r<20: return 6\n",
    "    else: return 7"
   ]
  },
  {
   "cell_type": "code",
   "execution_count": 196,
   "metadata": {},
   "outputs": [],
   "source": [
    "t=0\n",
    "new_uat={'type':'FeatureCollection','features':[]}\n",
    "new_uat_numbers=[]\n",
    "new_uat_daily={'type':'FeatureCollection','features':[]}\n",
    "for i in range(len(uat['features'])):\n",
    "    dummy={}\n",
    "    judet=uat['features'][i]['properties']['judet']\n",
    "    if (judet!=''):\n",
    "        u=uat['features'][i]['properties']['uat']\n",
    "        siruta=uat['features'][i]['properties']['siruta']\n",
    "        # dummy={'judet':judet,'uat':u,'siruta':siruta}\n",
    "        if u in datagov3.loc[judet].index:\n",
    "            d=datagov3.loc[judet].loc[u].loc[siruta]\n",
    "            values=d.values[0]\n",
    "            dummy['🌄']=d.index[0][0]\n",
    "            dummy['🏠']=d.index[0][1]\n",
    "            for t in range(len(values)):\n",
    "                value=values[t]\n",
    "                date=datagov3_dates[t]\n",
    "                dummy['📈']=value\n",
    "                dummy['🔴']=cat(value)\n",
    "                dummy['⚫']=cat2(value)\n",
    "                dummy['📆']=date\n",
    "                feature={'type':'Feature','geometry':uat['features'][i]['geometry'],'properties':dummy.copy()}\n",
    "                new_uat['features'].append(feature)\n",
    "                new_uat_numbers.append(dummy.copy())\n",
    "                if (t==len(datagov3_dates)-1):\n",
    "                    new_uat_daily['features'].append(feature)"
   ]
  },
  {
   "cell_type": "code",
   "execution_count": 197,
   "metadata": {},
   "outputs": [
    {
     "data": {
      "text/plain": [
       "22431835"
      ]
     },
     "execution_count": 197,
     "metadata": {},
     "output_type": "execute_result"
    }
   ],
   "source": [
    "open(htmlipath+'panels/new_uat_numbers.json','w').write(json.dumps(new_uat_numbers))\n",
    "# open(htmlipath+'panels/new_uat.json','w').write(json.dumps(new_uat))"
   ]
  },
  {
   "cell_type": "code",
   "execution_count": 198,
   "metadata": {},
   "outputs": [
    {
     "data": {
      "text/plain": [
       "7100483"
      ]
     },
     "execution_count": 198,
     "metadata": {},
     "output_type": "execute_result"
    }
   ],
   "source": [
    "#Kepler.gl export\n",
    "open(htmlipath+'panels/daily/new_uat'+date[:10]+'.json','w').write(json.dumps(new_uat_daily))\n",
    "open(htmlipath+'panels/new_uat_daily.json','w').write(json.dumps(new_uat_daily))"
   ]
  },
  {
   "cell_type": "code",
   "execution_count": 199,
   "metadata": {},
   "outputs": [],
   "source": [
    "del new_uat"
   ]
  },
  {
   "cell_type": "code",
   "execution_count": 200,
   "metadata": {},
   "outputs": [],
   "source": [
    "#D3plus export"
   ]
  },
  {
   "cell_type": "code",
   "execution_count": 201,
   "metadata": {},
   "outputs": [],
   "source": [
    "datagov4=datagov3.stack().reset_index()\n",
    "datagov4.columns=['judet','uat','id','judet_norm','uat_norm','date','value']\n",
    "datagov4['value']=np.round(datagov4['value'],2)\n",
    "# datagov4=datagov4.dropna(subset=['judet'])\n",
    "datagov4=datagov4.dropna(how='any')"
   ]
  },
  {
   "cell_type": "code",
   "execution_count": 202,
   "metadata": {},
   "outputs": [
    {
     "data": {
      "text/plain": [
       "20881697"
      ]
     },
     "execution_count": 202,
     "metadata": {},
     "output_type": "execute_result"
    }
   ],
   "source": [
    "open(htmlipath+'panels/daily/uat2b_'+date[:10]+'.json','w').write(json.dumps(list(datagov4.T.to_dict().values())))"
   ]
  },
  {
   "cell_type": "code",
   "execution_count": 203,
   "metadata": {},
   "outputs": [],
   "source": [
    "# #HTML overwrite\n",
    "# cases_localities=open(htmlipath+'panels/cases_localities.html','r').read()\n",
    "# cases_localities=cases_localities[:cases_localities.find('daily/uat2b_\\' + \\'2021-')+17]+latest+cases_localities[cases_localities.find('daily/uat2b_\\' + \\'2021-')+27:]\n",
    "# open(htmlipath+'panels/cases_localities.html','w').write(cases_localities)\n",
    "# #### CHECK IF LATEST DATE IS ONE LESS than latest"
   ]
  },
  {
   "cell_type": "markdown",
   "metadata": {},
   "source": [
    "Restrictions"
   ]
  },
  {
   "cell_type": "code",
   "execution_count": 204,
   "metadata": {},
   "outputs": [],
   "source": [
    "df2=pd.DataFrame(new_uat_numbers)\n",
    "df4=df2[['🌄', '🏠', '📈','📆']].set_index(['🌄', '🏠', '📆']).unstack()['📈'].sort_index(axis=1)"
   ]
  },
  {
   "cell_type": "code",
   "execution_count": 205,
   "metadata": {},
   "outputs": [],
   "source": [
    "def restrictie(x,w):\n",
    "    if x>7.5: return 4\n",
    "    elif x>7:\n",
    "        if w>7.5: return 3\n",
    "        else: return 2\n",
    "    elif x>4: return 2\n",
    "    elif x>3.5:\n",
    "        if w>4: return 1\n",
    "        else: return 0\n",
    "    else:\n",
    "        return 0\n",
    "    \n",
    "def restrictie2(x,w):\n",
    "    if x>7.5: return '7.5+'\n",
    "    elif x>7:\n",
    "        if w>7.5: return '7.5-'\n",
    "        else: return '4+'\n",
    "    elif x>4: return '4+'\n",
    "    elif x>3.5:\n",
    "        if w>4: return '4-'\n",
    "        else: return '0'\n",
    "    else:\n",
    "        return '0'"
   ]
  },
  {
   "cell_type": "code",
   "execution_count": 206,
   "metadata": {},
   "outputs": [],
   "source": [
    "dr=[]\n",
    "for i in df4.T.iteritems():\n",
    "    v=i[1]\n",
    "    #print(i[0])\n",
    "    for j in range(len(v)):\n",
    "        t=v.index[j]\n",
    "        x=v[j]\n",
    "        y=v[j-min(14,j):j].values\n",
    "        w=x\n",
    "        if len(y):\n",
    "            w=max(y)\n",
    "        r=restrictie(x,w)\n",
    "        #print(j,t,x,w,r)\n",
    "        dr.append({'🌄':i[0][0], '🏠':i[0][1], '🚦':r,'📆':t})"
   ]
  },
  {
   "cell_type": "code",
   "execution_count": 207,
   "metadata": {},
   "outputs": [],
   "source": [
    "dp=pd.DataFrame(dr).set_index(['🌄', '🏠','📆']).astype(float)"
   ]
  },
  {
   "cell_type": "code",
   "execution_count": 208,
   "metadata": {},
   "outputs": [],
   "source": [
    "for i in new_uat_daily['features']:\n",
    "    i['properties']['🚦']=dp.loc[i['properties']['🌄']].loc[i['properties']['🏠']].loc[i['properties']['📆']]['🚦']"
   ]
  },
  {
   "cell_type": "code",
   "execution_count": 237,
   "metadata": {},
   "outputs": [
    {
     "data": {
      "text/plain": [
       "7167347"
      ]
     },
     "execution_count": 237,
     "metadata": {},
     "output_type": "execute_result"
    }
   ],
   "source": [
    "open(htmlipath+'panels/new_uat_daily2.json','w').write(json.dumps(new_uat_daily))\n",
    "open(htmlipath+'panels/daily/new_uat_daily2_'+date[:10]+'.json','w').write(json.dumps(new_uat_daily))\n",
    "open('uat_daily.json','w').write(json.dumps(new_uat_daily))"
   ]
  },
  {
   "cell_type": "code",
   "execution_count": 210,
   "metadata": {},
   "outputs": [
    {
     "data": {
      "text/plain": [
       "18658"
      ]
     },
     "execution_count": 210,
     "metadata": {},
     "output_type": "execute_result"
    }
   ],
   "source": [
    "#HTML overwrite\n",
    "uat_html=open(htmlipath+'panels/daily/mapbox-'+date[:10]+'.html','r').read()\n",
    "uat_html=uat_html.replace(date[5:10],date[5:8]+today0).replace(date[5:10],date[5:8]+today0)\n",
    "uat_html=uat_html[:uat_html.find('.json')-2]+\\\n",
    "    str(pd.to_datetime(now)+pd.to_timedelta('-1d'))[8:10]+\\\n",
    "    uat_html[uat_html.find('.json'):]\n",
    "open(htmlipath+'panels/daily/mapbox-'+date[:8]+today0+'.html','w').write(uat_html)"
   ]
  },
  {
   "cell_type": "markdown",
   "metadata": {},
   "source": [
    "Upload to `uat.json` to mapbox"
   ]
  },
  {
   "cell_type": "code",
   "execution_count": 84,
   "metadata": {},
   "outputs": [],
   "source": [
    "#Mapbox colors:\n",
    "# 239e69\n",
    "# f5d232\n",
    "# c52b69\n",
    "# 850237"
   ]
  },
  {
   "cell_type": "code",
   "execution_count": 85,
   "metadata": {},
   "outputs": [],
   "source": [
    "#Add szekelydata GitHub update\n",
    "#Add mapbox direct upload"
   ]
  },
  {
   "cell_type": "code",
   "execution_count": 211,
   "metadata": {},
   "outputs": [
    {
     "data": {
      "text/html": [
       "<div>\n",
       "<style scoped>\n",
       "    .dataframe tbody tr th:only-of-type {\n",
       "        vertical-align: middle;\n",
       "    }\n",
       "\n",
       "    .dataframe tbody tr th {\n",
       "        vertical-align: top;\n",
       "    }\n",
       "\n",
       "    .dataframe thead tr th {\n",
       "        text-align: left;\n",
       "    }\n",
       "</style>\n",
       "<table border=\"1\" class=\"dataframe\">\n",
       "  <thead>\n",
       "    <tr>\n",
       "      <th>siruta</th>\n",
       "      <th>54975</th>\n",
       "    </tr>\n",
       "    <tr>\n",
       "      <th>judet_norm</th>\n",
       "      <th>Cluj</th>\n",
       "    </tr>\n",
       "    <tr>\n",
       "      <th>uat_norm</th>\n",
       "      <th>Cluj-Napoca</th>\n",
       "    </tr>\n",
       "  </thead>\n",
       "  <tbody>\n",
       "    <tr>\n",
       "      <th>2021-04-09</th>\n",
       "      <td>7.51</td>\n",
       "    </tr>\n",
       "    <tr>\n",
       "      <th>2021-04-10</th>\n",
       "      <td>7.11</td>\n",
       "    </tr>\n",
       "    <tr>\n",
       "      <th>2021-04-11</th>\n",
       "      <td>7.07</td>\n",
       "    </tr>\n",
       "  </tbody>\n",
       "</table>\n",
       "</div>"
      ],
      "text/plain": [
       "siruta           54975\n",
       "judet_norm        Cluj\n",
       "uat_norm   Cluj-Napoca\n",
       "2021-04-09        7.51\n",
       "2021-04-10        7.11\n",
       "2021-04-11        7.07"
      ]
     },
     "execution_count": 211,
     "metadata": {},
     "output_type": "execute_result"
    }
   ],
   "source": [
    "#Sanity check\n",
    "datagov3.loc['Cluj'].loc['Cluj-Napoca'].T.tail(3)"
   ]
  },
  {
   "cell_type": "markdown",
   "metadata": {},
   "source": [
    "Mapbox upload"
   ]
  },
  {
   "cell_type": "code",
   "execution_count": 226,
   "metadata": {},
   "outputs": [],
   "source": [
    "import requests"
   ]
  },
  {
   "cell_type": "markdown",
   "metadata": {},
   "source": [
    "Create tileset source"
   ]
  },
  {
   "cell_type": "code",
   "execution_count": 281,
   "metadata": {},
   "outputs": [
    {
     "name": "stdout",
     "output_type": "stream",
     "text": [
      "Validating features\n",
      "✔ valid\n"
     ]
    }
   ],
   "source": [
    "!tilesets validate-source uat_daily.json"
   ]
  },
  {
   "cell_type": "code",
   "execution_count": 283,
   "metadata": {},
   "outputs": [
    {
     "name": "stdout",
     "output_type": "stream",
     "text": [
      "\u001b[?25h\n",
      "{\"id\": \"mapbox://tileset-source/csaladenes/roeim\", \"files\": 1, \"source_size\": 6792276, \"file_size\": 6792276}\n"
     ]
    }
   ],
   "source": [
    "!tilesets upload-source csaladenes roeim uat_daily.json --replace --token $mapbox_api_key"
   ]
  },
  {
   "cell_type": "code",
   "execution_count": 285,
   "metadata": {},
   "outputs": [],
   "source": [
    "%%capture cap_out\n",
    "!tilesets publish csaladenes.roeim --token $mapbox_api_key"
   ]
  },
  {
   "cell_type": "code",
   "execution_count": 293,
   "metadata": {},
   "outputs": [
    {
     "name": "stdout",
     "output_type": "stream",
     "text": [
      "{\"id\": \"cknfbky1w002e08mj7pa9hqm0\", \"stage\": \"success\", \"created\": 1618275721316, \"created_nice\": \"Tue Apr 13 2021 01:02:01 GMT+0000 (Coordinated Universal Time)\", \"published\": 1618275721316, \"tilesetId\": \"csaladenes.roeim\", \"errors\": [], \"warnings\": [], \"completed\": 1618275831852, \"layer_stats\": {\"uat_fills\": {\"minzoom\": 0, \"polygon_count\": 63460, \"total_tiles\": 7328, \"capped\": 0, \"zooms\": {\"0\": {\"capped\": 0, \"ymin\": 0, \"avg_size\": 275, \"tiles\": 1, \"xmin\": 0, \"xmax\": 0, \"max_size\": 275, \"sum_area\": 508164394.24620897, \"sum_size\": 275, \"ymax\": 0, \"size_histogram\": [1, 0, 0, 0, 0, 0, 0, 0, 0, 0, 0, 0, 0, 0, 0, 0, 0, 0, 0, 0]}, \"1\": {\"capped\": 0, \"ymin\": 0, \"avg_size\": 4681, \"tiles\": 1, \"xmin\": 1, \"xmax\": 1, \"max_size\": 4681, \"sum_area\": 127041098.56155224, \"sum_size\": 4681, \"ymax\": 0, \"size_histogram\": [1, 0, 0, 0, 0, 0, 0, 0, 0, 0, 0, 0, 0, 0, 0, 0, 0, 0, 0, 0]}, \"2\": {\"capped\": 0, \"ymin\": 1, \"avg_size\": 80184, \"tiles\": 1, \"xmin\": 2, \"xmax\": 2, \"max_size\": 80184, \"sum_area\": 58476014.25980692, \"sum_size\": 80184, \"ymax\": 1, \"size_histogram\": [0, 0, 0, 1, 0, 0, 0, 0, 0, 0, 0, 0, 0, 0, 0, 0, 0, 0, 0, 0]}, \"3\": {\"capped\": 0, \"ymin\": 2, \"avg_size\": 183187, \"tiles\": 1, \"xmin\": 4, \"xmax\": 4, \"max_size\": 183187, \"sum_area\": 8331866.648482455, \"sum_size\": 183187, \"ymax\": 2, \"size_histogram\": [0, 0, 0, 0, 0, 0, 0, 1, 0, 0, 0, 0, 0, 0, 0, 0, 0, 0, 0, 0]}, \"4\": {\"capped\": 0, \"ymin\": 5, \"avg_size\": 107810, \"tiles\": 2, \"xmin\": 8, \"xmax\": 9, \"max_size\": 186435, \"sum_area\": 5453129.603844402, \"sum_size\": 215620, \"ymax\": 5, \"size_histogram\": [0, 1, 0, 0, 0, 0, 0, 1, 0, 0, 0, 0, 0, 0, 0, 0, 0, 0, 0, 0]}, \"5\": {\"capped\": 0, \"ymin\": 11, \"avg_size\": 122269.5, \"tiles\": 2, \"xmin\": 17, \"xmax\": 18, \"max_size\": 212399, \"sum_area\": 1562511.4923370662, \"sum_size\": 244539, \"ymax\": 11, \"size_histogram\": [0, 1, 0, 0, 0, 0, 0, 0, 1, 0, 0, 0, 0, 0, 0, 0, 0, 0, 0, 0]}, \"6\": {\"capped\": 0, \"ymin\": 22, \"avg_size\": 53737.5, \"tiles\": 6, \"xmin\": 35, \"xmax\": 37, \"max_size\": 174156, \"sum_area\": 1171883.6192527995, \"sum_size\": 322425, \"ymax\": 23, \"size_histogram\": [3, 1, 0, 1, 0, 0, 1, 0, 0, 0, 0, 0, 0, 0, 0, 0, 0, 0, 0, 0]}, \"7\": {\"capped\": 0, \"ymin\": 44, \"avg_size\": 38840.09090909091, \"tiles\": 11, \"xmin\": 71, \"xmax\": 74, \"max_size\": 85716, \"sum_area\": 521597.14712964406, \"sum_size\": 427241, \"ymax\": 46, \"size_histogram\": [4, 3, 2, 2, 0, 0, 0, 0, 0, 0, 0, 0, 0, 0, 0, 0, 0, 0, 0, 0]}, \"8\": {\"capped\": 0, \"ymin\": 88, \"avg_size\": 15709.771428571428, \"tiles\": 35, \"xmin\": 142, \"xmax\": 149, \"max_size\": 38087, \"sum_area\": 415727.9227807996, \"sum_size\": 549842, \"ymax\": 93, \"size_histogram\": [24, 11, 0, 0, 0, 0, 0, 0, 0, 0, 0, 0, 0, 0, 0, 0, 0, 0, 0, 0]}, \"9\": {\"capped\": 0, \"ymin\": 177, \"avg_size\": 6423.485981308411, \"tiles\": 107, \"xmin\": 284, \"xmax\": 298, \"max_size\": 13192, \"sum_area\": 317117.8483984563, \"sum_size\": 687313, \"ymax\": 186, \"size_histogram\": [107, 0, 0, 0, 0, 0, 0, 0, 0, 0, 0, 0, 0, 0, 0, 0, 0, 0, 0, 0]}, \"10\": {\"capped\": 0, \"ymin\": 354, \"avg_size\": 2524.304461942257, \"tiles\": 381, \"xmin\": 569, \"xmax\": 596, \"max_size\": 4896, \"sum_area\": 282602.7995220736, \"sum_size\": 961760, \"ymax\": 373, \"size_histogram\": [381, 0, 0, 0, 0, 0, 0, 0, 0, 0, 0, 0, 0, 0, 0, 0, 0, 0, 0, 0]}, \"11\": {\"capped\": 0, \"ymin\": 709, \"avg_size\": 1043.760543245175, \"tiles\": 1399, \"xmin\": 1139, \"xmax\": 1193, \"max_size\": 2162, \"sum_area\": 259325.85843517724, \"sum_size\": 1460221, \"ymax\": 747, \"size_histogram\": [1399, 0, 0, 0, 0, 0, 0, 0, 0, 0, 0, 0, 0, 0, 0, 0, 0, 0, 0, 0]}, \"12\": {\"capped\": 0, \"ymin\": 1419, \"avg_size\": 509.8044973053336, \"tiles\": 5381, \"xmin\": 2278, \"xmax\": 2386, \"max_size\": 1028, \"sum_area\": 249294.07291842814, \"sum_size\": 2743258, \"ymax\": 1495, \"size_histogram\": [5381, 0, 0, 0, 0, 0, 0, 0, 0, 0, 0, 0, 0, 0, 0, 0, 0, 0, 0, 0]}}, \"maxzoom\": 12, \"point_count\": 0, \"linestring_count\": 0}}, \"tileset_precisions\": {\"1m\": 259325.85843517724}, \"recipe\": {\"version\": 1, \"layers\": {\"uat_fills\": {\"source\": \"mapbox://tileset-source/csaladenes/roeim\", \"minzoom\": 0, \"maxzoom\": 12}}}}\n"
     ]
    }
   ],
   "source": [
    "jobid=json.loads(cap_out.stdout.split('}')[0]+'}')['jobId']\n",
    "!tilesets job csaladenes.roeim $jobid --token $mapbox_api_key"
   ]
  },
  {
   "cell_type": "markdown",
   "metadata": {},
   "source": [
    "Wait 5 min"
   ]
  },
  {
   "cell_type": "markdown",
   "metadata": {},
   "source": [
    "Push to Grafana"
   ]
  },
  {
   "cell_type": "code",
   "execution_count": 72,
   "metadata": {},
   "outputs": [
    {
     "name": "stdout",
     "output_type": "stream",
     "text": [
      "<Response [200]> b'{\"id\":2,\"slug\":\"magyar\",\"status\":\"success\",\"uid\":\"hu\",\"url\":\"/d/hu/magyar\",\"version\":311}'\n",
      "<Response [200]> b'{\"id\":5,\"slug\":\"magyar-light\",\"status\":\"success\",\"uid\":\"hu-light\",\"url\":\"/d/hu-light/magyar-light\",\"version\":136}'\n",
      "<Response [200]> b'{\"id\":3,\"slug\":\"romana\",\"status\":\"success\",\"uid\":\"ro\",\"url\":\"/d/ro/romana\",\"version\":215}'\n",
      "<Response [200]> b'{\"id\":6,\"slug\":\"romana-light\",\"status\":\"success\",\"uid\":\"ro-light\",\"url\":\"/d/ro-light/romana-light\",\"version\":130}'\n",
      "<Response [200]> b'{\"id\":4,\"slug\":\"english\",\"status\":\"success\",\"uid\":\"en\",\"url\":\"/d/en/english\",\"version\":176}'\n",
      "<Response [200]> b'{\"id\":7,\"slug\":\"english-light\",\"status\":\"success\",\"uid\":\"en-light\",\"url\":\"/d/en-light/english-light\",\"version\":131}'\n"
     ]
    }
   ],
   "source": [
    "nevuto={'0':'é','1':'é','2':'é','3':'á','4':'é','5':'é','6':'á','7':'é','8':'á','9':'é'}\n",
    "for lang in languages:\n",
    "# for lang in ['EN']:\n",
    "    response = requests.get(grafana+'api/dashboards/uid/'+lang.lower(), headers=headers)\n",
    "    model=json.loads(response.content)['dashboard']\n",
    "    for i in model['panels']:\n",
    "        if lang=='HU':\n",
    "            #print(i['id'],i['type'],i['title'])\n",
    "            if i['id'] in (179, 91):\n",
    "                i['options']['iframeURL']=i['options']['iframeURL'][:i['options']['iframeURL'].find('.html#')-2]+\\\n",
    "                    today0+i['options']['iframeURL'][i['options']['iframeURL'].find('.html#'):]\n",
    "                i['description']=i['description'][:i['description'].find('n,')-4].strip()+' '+today+'-'+\\\n",
    "                    nevuto[now[-1]]+i['description'][i['description'].find('n,'):\\\n",
    "                    i['description'].find(':')-2]+hour+\\\n",
    "                    i['description'][i['description'].find(':')+3:]\n",
    "                i['title']=i['title'][:i['title'].rfind(' ')]+' '+today\n",
    "            if i['id']==82:\n",
    "                i['content']=i['content'][:i['content'].find('<b>')+3]+str(szotar['report']['UI'][1:])+\\\n",
    "                    i['content'][i['content'].find('</b>'):i['content'].rfind('<b>')+3]+currents+\\\n",
    "                    i['content'][i['content'].rfind('</b>'):]\n",
    "            if i['id']==93:\n",
    "                i['content']=i['content'][:i['content'].rfind('</b>')-2]+today0+\\\n",
    "                i['content'][i['content'].rfind('</b>'):]\n",
    "        elif lang=='EN':\n",
    "            if i['id'] in (153, 91):\n",
    "                i['options']['iframeURL']=i['options']['iframeURL'][:i['options']['iframeURL'].find('.html#')-2]+\\\n",
    "                    today0+i['options']['iframeURL'][i['options']['iframeURL'].find('.html#'):]\n",
    "                i['description']=i['description'][:i['description'].find(':')-2]+hour+' on '+today+' '+ i['description'][i['description'].find('on ')+5:]\n",
    "                i['title']=i['title'][:i['title'].find('📆')+2]+today+i['title'][i['title'].find('📆')+4:]\n",
    "            if i['id']==82:\n",
    "                i['content']=i['content'][:i['content'].find('<b>')+3]+str(szotar['report']['UI'][1:])+\\\n",
    "                    i['content'][i['content'].find('</b>'):i['content'].rfind('<b>')+3]+currents+\\\n",
    "                    i['content'][i['content'].rfind('</b>'):]\n",
    "            if i['id']==93:\n",
    "                i['content']=i['content'][:i['content'].rfind('</b>')-2]+today0+\\\n",
    "                i['content'][i['content'].rfind('</b>'):]\n",
    "        elif lang=='RO':\n",
    "            if i['id'] in (153, 91):\n",
    "                i['options']['iframeURL']=i['options']['iframeURL'][:i['options']['iframeURL'].find('.html#')-2]+\\\n",
    "                    today0+i['options']['iframeURL'][i['options']['iframeURL'].find('.html#'):]\n",
    "                i['description']=i['description'][:i['description'].find(':')-2]+hour+' în data de '+today+' '+ i['description'][i['description'].find('în data de ')+14:]\n",
    "                i['title']=i['title'][:i['title'].find('📆')+2]+today+i['title'][i['title'].find('📆')+4:]\n",
    "                \n",
    "            if i['id']==82:\n",
    "                i['content']=i['content'][:i['content'].find('<b>')+3]+str(szotar['report']['UI'][1:])+\\\n",
    "                    i['content'][i['content'].find('</b>'):i['content'].rfind('<b>')+3]+currents+\\\n",
    "                    i['content'][i['content'].rfind('</b>'):]\n",
    "            if i['id']==93:\n",
    "                i['content']=i['content'][:i['content'].rfind('<b>')+3]+today0+\\\n",
    "                i['content'][i['content'].rfind('<b>')+5:]\n",
    "            \n",
    "    r=requests.post(grafana+'api/dashboards/db', headers=headers, json={\"dashboard\":model,\n",
    "                                                                            \"folderId\": folder_id,\n",
    "                                                                            \"overwrite\": True\n",
    "                                                                           })       \n",
    "    print(r,r.content)\n",
    "    open(lang+'.json','w').write(json.dumps(model))    \n",
    "    \n",
    "    model_light=json.dumps(model).replace('dark','light',9999).replace('lightGray','#52545C',9999)\\\n",
    "        .replace('#d3d3d3','#52545c',9999)\\\n",
    "        .replace('csaladen.es/favicon.ico\" style=\"','csaladen.es/favicon.ico\" style=\"filter: brightness(0.3);',9999)\n",
    "    for color in colors_to_darken:\n",
    "        model_light=model_light.replace(color,adjust_lightness(color,0.8),9999)\n",
    "        model_light=model_light.replace(color.lower(),adjust_lightness(color,0.8),9999)\n",
    "    model=json.loads(model_light)\n",
    "    model['title']=titles[lang]+' Light'\n",
    "    model['uid']=uids_light[lang]\n",
    "    model['id']=iids_light[lang]\n",
    "    r=requests.post(grafana+'api/dashboards/db', headers=headers, json={\"dashboard\":model,\n",
    "                                                                            \"folderId\": folder_id,\n",
    "                                                                            \"overwrite\": True\n",
    "                                                                           })    \n",
    "    print(r,r.content)\n",
    "    open(lang+'-light.json','w').write(json.dumps(model))   "
   ]
  }
 ],
 "metadata": {
  "kernelspec": {
   "display_name": "Python 3",
   "language": "python",
   "name": "python3"
  },
  "language_info": {
   "codemirror_mode": {
    "name": "ipython",
    "version": 3
   },
   "file_extension": ".py",
   "mimetype": "text/x-python",
   "name": "python",
   "nbconvert_exporter": "python",
   "pygments_lexer": "ipython3",
   "version": "3.8.6"
  }
 },
 "nbformat": 4,
 "nbformat_minor": 4
}
